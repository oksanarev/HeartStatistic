{
 "cells": [
  {
   "cell_type": "markdown",
   "id": "70e3b97a",
   "metadata": {},
   "source": [
    "# Диагностика и прогнозирование сердечной недостаточности с использованием линейной регрессии.\n",
    "\n"
   ]
  },
  {
   "cell_type": "markdown",
   "id": "1f6e53e5",
   "metadata": {},
   "source": [
    "#### Первую позицию в списке десяти ведущих причин смертности по-прежнему занимают сердечно-сосудистые заболевания.Болезни сердца остаются лидирующей причиной смертности во всем мире уже 20 лет.\n",
    "##### Тем не менее, никогда они не уносили так много жизней, как сегодня. С 2000 г. число случаев смерти от сердечно-сосудистых заболеваний возросло более чем на 2 миллиона и в 2019 г. достигло почти 9 миллионов. На долю болезней сердца сегодня приходится 16% всех случаев смерти в мире. Более половины двух миллионов дополнительных случаев смерти от сердечно-сосудистых заболеваний было зарегистрировано в Регионе ВОЗ для стран Западной части Тихого океана. При этом в Европейском регионе было отмечено относительное снижение смертности от болезней сердца на 15%.\n",
    "##### Поэтому так важно изучать статистику заболеваний сердца, для выявления наиболее важных факторов приводящих к болезни.\n",
    "##### Представляю своё небольшое исследование по этой проблеме.\n",
    "#### Данные взяты отсюда (https://www.kaggle.com/fedesoriano/heart-failure-prediction)."
   ]
  },
  {
   "cell_type": "code",
   "execution_count": 1,
   "id": "5ad10dad",
   "metadata": {},
   "outputs": [],
   "source": [
    "%matplotlib inline\n",
    "import warnings\n",
    "\n",
    "import numpy as np\n",
    "import pandas as pd\n",
    "import matplotlib.pyplot as plt\n",
    "import seaborn as sns\n",
    "import matplotlib as mlt\n",
    "import seaborn as sns\n",
    "from scipy import stats\n",
    "\n",
    "\n",
    "warnings.filterwarnings('ignore')\n",
    "plt.style.use('ggplot')  \n",
    "plt.rcParams['figure.figsize'] = (10, 2)  "
   ]
  },
  {
   "cell_type": "code",
   "execution_count": 2,
   "id": "2880fb03",
   "metadata": {},
   "outputs": [
    {
     "data": {
      "text/html": [
       "<div>\n",
       "<style scoped>\n",
       "    .dataframe tbody tr th:only-of-type {\n",
       "        vertical-align: middle;\n",
       "    }\n",
       "\n",
       "    .dataframe tbody tr th {\n",
       "        vertical-align: top;\n",
       "    }\n",
       "\n",
       "    .dataframe thead th {\n",
       "        text-align: right;\n",
       "    }\n",
       "</style>\n",
       "<table border=\"1\" class=\"dataframe\">\n",
       "  <thead>\n",
       "    <tr style=\"text-align: right;\">\n",
       "      <th></th>\n",
       "      <th>Age</th>\n",
       "      <th>Sex</th>\n",
       "      <th>ChestPainType</th>\n",
       "      <th>RestingBP</th>\n",
       "      <th>Cholesterol</th>\n",
       "      <th>FastingBS</th>\n",
       "      <th>RestingECG</th>\n",
       "      <th>MaxHR</th>\n",
       "      <th>ExerciseAngina</th>\n",
       "      <th>Oldpeak</th>\n",
       "      <th>ST_Slope</th>\n",
       "      <th>HeartDisease</th>\n",
       "    </tr>\n",
       "  </thead>\n",
       "  <tbody>\n",
       "    <tr>\n",
       "      <th>0</th>\n",
       "      <td>40</td>\n",
       "      <td>M</td>\n",
       "      <td>ATA</td>\n",
       "      <td>140</td>\n",
       "      <td>289</td>\n",
       "      <td>0</td>\n",
       "      <td>Normal</td>\n",
       "      <td>172</td>\n",
       "      <td>N</td>\n",
       "      <td>0.0</td>\n",
       "      <td>Up</td>\n",
       "      <td>0</td>\n",
       "    </tr>\n",
       "    <tr>\n",
       "      <th>1</th>\n",
       "      <td>49</td>\n",
       "      <td>F</td>\n",
       "      <td>NAP</td>\n",
       "      <td>160</td>\n",
       "      <td>180</td>\n",
       "      <td>0</td>\n",
       "      <td>Normal</td>\n",
       "      <td>156</td>\n",
       "      <td>N</td>\n",
       "      <td>1.0</td>\n",
       "      <td>Flat</td>\n",
       "      <td>1</td>\n",
       "    </tr>\n",
       "    <tr>\n",
       "      <th>2</th>\n",
       "      <td>37</td>\n",
       "      <td>M</td>\n",
       "      <td>ATA</td>\n",
       "      <td>130</td>\n",
       "      <td>283</td>\n",
       "      <td>0</td>\n",
       "      <td>ST</td>\n",
       "      <td>98</td>\n",
       "      <td>N</td>\n",
       "      <td>0.0</td>\n",
       "      <td>Up</td>\n",
       "      <td>0</td>\n",
       "    </tr>\n",
       "    <tr>\n",
       "      <th>3</th>\n",
       "      <td>48</td>\n",
       "      <td>F</td>\n",
       "      <td>ASY</td>\n",
       "      <td>138</td>\n",
       "      <td>214</td>\n",
       "      <td>0</td>\n",
       "      <td>Normal</td>\n",
       "      <td>108</td>\n",
       "      <td>Y</td>\n",
       "      <td>1.5</td>\n",
       "      <td>Flat</td>\n",
       "      <td>1</td>\n",
       "    </tr>\n",
       "    <tr>\n",
       "      <th>4</th>\n",
       "      <td>54</td>\n",
       "      <td>M</td>\n",
       "      <td>NAP</td>\n",
       "      <td>150</td>\n",
       "      <td>195</td>\n",
       "      <td>0</td>\n",
       "      <td>Normal</td>\n",
       "      <td>122</td>\n",
       "      <td>N</td>\n",
       "      <td>0.0</td>\n",
       "      <td>Up</td>\n",
       "      <td>0</td>\n",
       "    </tr>\n",
       "  </tbody>\n",
       "</table>\n",
       "</div>"
      ],
      "text/plain": [
       "   Age Sex ChestPainType  RestingBP  Cholesterol  FastingBS RestingECG  MaxHR  \\\n",
       "0   40   M           ATA        140          289          0     Normal    172   \n",
       "1   49   F           NAP        160          180          0     Normal    156   \n",
       "2   37   M           ATA        130          283          0         ST     98   \n",
       "3   48   F           ASY        138          214          0     Normal    108   \n",
       "4   54   M           NAP        150          195          0     Normal    122   \n",
       "\n",
       "  ExerciseAngina  Oldpeak ST_Slope  HeartDisease  \n",
       "0              N      0.0       Up             0  \n",
       "1              N      1.0     Flat             1  \n",
       "2              N      0.0       Up             0  \n",
       "3              Y      1.5     Flat             1  \n",
       "4              N      0.0       Up             0  "
      ]
     },
     "execution_count": 2,
     "metadata": {},
     "output_type": "execute_result"
    }
   ],
   "source": [
    "df = pd.read_csv('heart.csv')\n",
    "df.head()"
   ]
  },
  {
   "cell_type": "code",
   "execution_count": 3,
   "id": "bb480713",
   "metadata": {},
   "outputs": [
    {
     "data": {
      "text/html": [
       "<div>\n",
       "<style scoped>\n",
       "    .dataframe tbody tr th:only-of-type {\n",
       "        vertical-align: middle;\n",
       "    }\n",
       "\n",
       "    .dataframe tbody tr th {\n",
       "        vertical-align: top;\n",
       "    }\n",
       "\n",
       "    .dataframe thead th {\n",
       "        text-align: right;\n",
       "    }\n",
       "</style>\n",
       "<table border=\"1\" class=\"dataframe\">\n",
       "  <thead>\n",
       "    <tr style=\"text-align: right;\">\n",
       "      <th></th>\n",
       "      <th>Age</th>\n",
       "      <th>Sex</th>\n",
       "      <th>ChestPainType</th>\n",
       "      <th>RestingBP</th>\n",
       "      <th>Cholesterol</th>\n",
       "      <th>FastingBS</th>\n",
       "      <th>RestingECG</th>\n",
       "      <th>MaxHR</th>\n",
       "      <th>ExerciseAngina</th>\n",
       "      <th>Oldpeak</th>\n",
       "      <th>ST_Slope</th>\n",
       "      <th>HeartDisease</th>\n",
       "    </tr>\n",
       "  </thead>\n",
       "  <tbody>\n",
       "    <tr>\n",
       "      <th>913</th>\n",
       "      <td>45</td>\n",
       "      <td>M</td>\n",
       "      <td>TA</td>\n",
       "      <td>110</td>\n",
       "      <td>264</td>\n",
       "      <td>0</td>\n",
       "      <td>Normal</td>\n",
       "      <td>132</td>\n",
       "      <td>N</td>\n",
       "      <td>1.2</td>\n",
       "      <td>Flat</td>\n",
       "      <td>1</td>\n",
       "    </tr>\n",
       "    <tr>\n",
       "      <th>914</th>\n",
       "      <td>68</td>\n",
       "      <td>M</td>\n",
       "      <td>ASY</td>\n",
       "      <td>144</td>\n",
       "      <td>193</td>\n",
       "      <td>1</td>\n",
       "      <td>Normal</td>\n",
       "      <td>141</td>\n",
       "      <td>N</td>\n",
       "      <td>3.4</td>\n",
       "      <td>Flat</td>\n",
       "      <td>1</td>\n",
       "    </tr>\n",
       "    <tr>\n",
       "      <th>915</th>\n",
       "      <td>57</td>\n",
       "      <td>M</td>\n",
       "      <td>ASY</td>\n",
       "      <td>130</td>\n",
       "      <td>131</td>\n",
       "      <td>0</td>\n",
       "      <td>Normal</td>\n",
       "      <td>115</td>\n",
       "      <td>Y</td>\n",
       "      <td>1.2</td>\n",
       "      <td>Flat</td>\n",
       "      <td>1</td>\n",
       "    </tr>\n",
       "    <tr>\n",
       "      <th>916</th>\n",
       "      <td>57</td>\n",
       "      <td>F</td>\n",
       "      <td>ATA</td>\n",
       "      <td>130</td>\n",
       "      <td>236</td>\n",
       "      <td>0</td>\n",
       "      <td>LVH</td>\n",
       "      <td>174</td>\n",
       "      <td>N</td>\n",
       "      <td>0.0</td>\n",
       "      <td>Flat</td>\n",
       "      <td>1</td>\n",
       "    </tr>\n",
       "    <tr>\n",
       "      <th>917</th>\n",
       "      <td>38</td>\n",
       "      <td>M</td>\n",
       "      <td>NAP</td>\n",
       "      <td>138</td>\n",
       "      <td>175</td>\n",
       "      <td>0</td>\n",
       "      <td>Normal</td>\n",
       "      <td>173</td>\n",
       "      <td>N</td>\n",
       "      <td>0.0</td>\n",
       "      <td>Up</td>\n",
       "      <td>0</td>\n",
       "    </tr>\n",
       "  </tbody>\n",
       "</table>\n",
       "</div>"
      ],
      "text/plain": [
       "     Age Sex ChestPainType  RestingBP  Cholesterol  FastingBS RestingECG  \\\n",
       "913   45   M            TA        110          264          0     Normal   \n",
       "914   68   M           ASY        144          193          1     Normal   \n",
       "915   57   M           ASY        130          131          0     Normal   \n",
       "916   57   F           ATA        130          236          0        LVH   \n",
       "917   38   M           NAP        138          175          0     Normal   \n",
       "\n",
       "     MaxHR ExerciseAngina  Oldpeak ST_Slope  HeartDisease  \n",
       "913    132              N      1.2     Flat             1  \n",
       "914    141              N      3.4     Flat             1  \n",
       "915    115              Y      1.2     Flat             1  \n",
       "916    174              N      0.0     Flat             1  \n",
       "917    173              N      0.0       Up             0  "
      ]
     },
     "execution_count": 3,
     "metadata": {},
     "output_type": "execute_result"
    }
   ],
   "source": [
    "df.tail()"
   ]
  },
  {
   "cell_type": "code",
   "execution_count": 4,
   "id": "7eefdd1c",
   "metadata": {},
   "outputs": [
    {
     "name": "stdout",
     "output_type": "stream",
     "text": [
      "Размер наших данных: (количество наблюдений, количество факторов) = (918, 12)\n"
     ]
    }
   ],
   "source": [
    "print(f'Размер наших данных: (количество наблюдений, количество факторов) = {df.shape}')"
   ]
  },
  {
   "cell_type": "code",
   "execution_count": 5,
   "id": "ccfa2d1b",
   "metadata": {},
   "outputs": [
    {
     "data": {
      "text/plain": [
       "'0'"
      ]
     },
     "execution_count": 5,
     "metadata": {},
     "output_type": "execute_result"
    }
   ],
   "source": [
    "str(df.isnull().sum().sum())"
   ]
  },
  {
   "cell_type": "code",
   "execution_count": 6,
   "id": "d19e2853",
   "metadata": {},
   "outputs": [
    {
     "data": {
      "text/plain": [
       "11016"
      ]
     },
     "execution_count": 6,
     "metadata": {},
     "output_type": "execute_result"
    }
   ],
   "source": [
    "df.size"
   ]
  },
  {
   "cell_type": "code",
   "execution_count": 7,
   "id": "56af93d7",
   "metadata": {},
   "outputs": [
    {
     "data": {
      "text/plain": [
       "Index(['Age', 'Sex', 'ChestPainType', 'RestingBP', 'Cholesterol', 'FastingBS',\n",
       "       'RestingECG', 'MaxHR', 'ExerciseAngina', 'Oldpeak', 'ST_Slope',\n",
       "       'HeartDisease'],\n",
       "      dtype='object')"
      ]
     },
     "execution_count": 7,
     "metadata": {},
     "output_type": "execute_result"
    }
   ],
   "source": [
    "df.columns"
   ]
  },
  {
   "cell_type": "markdown",
   "id": "c6418e7a",
   "metadata": {},
   "source": [
    "### 1) Значение переменных в базе данных и их типы:\n",
    "\n",
    "1. Age - возраст пациента - число.\n",
    "2. Sex - пол пациента - категории (M - мужской пол,F - женский).\n",
    "3. ChestPainType - категории сердечных болей (TA - Typical Angina - Боль в грудной клетке, вызванная физической нагрузкой или эмоциональным стрессом, ATA - ATypical Angina - Стенокардия, которая не сопровождается классическими симптомами боли в груди. Симптомы - слабость, тошнота или потливость, NAP - Non-Anginal Chest Pain - Боль в груди, которая НЕ вызвана болезнью сердца или сердечным приступом, ASY - Asymptomatic - отсутствие болей.\n",
    "4. RestingBP - уровень артериального давления(верхний показатель)- число.\n",
    "5. Cholesterol- показатель уровня холестерина в крови - число.\n",
    "6. FastingBS - уровень сахара в крови - категория( 1- повышенный, 0  - нормальный).\n",
    "7. RestingECG - результаты электрокардиограммы в состоянии покоя - категории(Normal - нормальная ЭКГ, ST - изменения сегмента ST,LVH - гипертрофия левого желудочка).\n",
    "8. MaxHR -  максимальная частота сердечных сокращений (60-202)- число.\n",
    "9. ExerciseAngina - стенокардия - категория (yes/no).\n",
    "10. Oldpeak - аномально низкий след ST на кардиограмме - число.\n",
    "11. ST_Slope - наклон сегмента ST при пиковой физической нагрузки - категории(Up - восходящий наклон, Flat - нулевой наклон,Down - низходящий наклон.)\n",
    "12. HeartDisease - диагноз -категории(1- заболевания сердца, 0 - здоровое сердце)."
   ]
  },
  {
   "cell_type": "code",
   "execution_count": 8,
   "id": "47d13f56",
   "metadata": {},
   "outputs": [
    {
     "data": {
      "text/plain": [
       "Age                 int64\n",
       "Sex                object\n",
       "ChestPainType      object\n",
       "RestingBP           int64\n",
       "Cholesterol         int64\n",
       "FastingBS           int64\n",
       "RestingECG         object\n",
       "MaxHR               int64\n",
       "ExerciseAngina     object\n",
       "Oldpeak           float64\n",
       "ST_Slope           object\n",
       "HeartDisease        int64\n",
       "dtype: object"
      ]
     },
     "execution_count": 8,
     "metadata": {},
     "output_type": "execute_result"
    }
   ],
   "source": [
    "df.dtypes"
   ]
  },
  {
   "cell_type": "markdown",
   "id": "5874d579",
   "metadata": {},
   "source": [
    "### 2) Рассмотрим распределение переменных в выборке пациентов, выраженных числовыми значенем."
   ]
  },
  {
   "cell_type": "code",
   "execution_count": 9,
   "id": "7fd4d2c9",
   "metadata": {},
   "outputs": [],
   "source": [
    "def pdf_normal(loc, scale, x):\n",
    "    return np.exp(- ((x - loc) ** 2) / (2 * scale ** 2)) / (scale * np.sqrt(2 * np.pi))"
   ]
  },
  {
   "cell_type": "code",
   "execution_count": 10,
   "id": "352dd6b5",
   "metadata": {},
   "outputs": [],
   "source": [
    "loc = df['Age'].mean()\n",
    "scale = df['Age'].std()"
   ]
  },
  {
   "cell_type": "code",
   "execution_count": 11,
   "id": "2907aefc",
   "metadata": {},
   "outputs": [
    {
     "data": {
      "text/plain": [
       "Text(0.5, 1.0, 'Распределение возраста в выборке.')"
      ]
     },
     "execution_count": 11,
     "metadata": {},
     "output_type": "execute_result"
    },
    {
     "data": {
      "image/png": "[encoded data removed]",
      "text/plain": [
       "<Figure size 720x144 with 1 Axes>"
      ]
     },
     "metadata": {},
     "output_type": "display_data"
    }
   ],
   "source": [
    "ox = np.linspace(25, 85, 1000)\n",
    "oy = np.array([pdf_normal(loc, scale, x) for x in ox])\n",
    "plt.hist(df['Age'], density=True, bins=15)\n",
    "plt.plot(ox, oy)\n",
    "plt.title('Распределение возраста в выборке.')\n",
    "\n"
   ]
  },
  {
   "cell_type": "code",
   "execution_count": 12,
   "id": "eedbdd73",
   "metadata": {},
   "outputs": [
    {
     "data": {
      "text/plain": [
       "(132.39651416122004, 18.514154119907808)"
      ]
     },
     "execution_count": 12,
     "metadata": {},
     "output_type": "execute_result"
    }
   ],
   "source": [
    "loc = df['RestingBP'].mean()\n",
    "scale = df['RestingBP'].std()\n",
    "loc, scale"
   ]
  },
  {
   "cell_type": "code",
   "execution_count": 13,
   "id": "333502a5",
   "metadata": {},
   "outputs": [
    {
     "data": {
      "text/plain": [
       "Text(0.5, 1.0, 'Распределение значений артериального давления в выборке.')"
      ]
     },
     "execution_count": 13,
     "metadata": {},
     "output_type": "execute_result"
    },
    {
     "data": {
      "image/png": "[encoded data removed]",
      "text/plain": [
       "<Figure size 720x144 with 1 Axes>"
      ]
     },
     "metadata": {},
     "output_type": "display_data"
    }
   ],
   "source": [
    "ox = np.linspace(45, 210, 1000)\n",
    "oy = np.array([pdf_normal(loc, scale, x) for x in ox])\n",
    "plt.hist(df['RestingBP'], density=True, bins=15)\n",
    "plt.plot(ox,oy)\n",
    "plt.title('Распределение значений артериального давления в выборке.')"
   ]
  },
  {
   "cell_type": "code",
   "execution_count": 14,
   "id": "face8929",
   "metadata": {},
   "outputs": [
    {
     "data": {
      "text/plain": [
       "(198.7995642701525, 109.38414455220337)"
      ]
     },
     "execution_count": 14,
     "metadata": {},
     "output_type": "execute_result"
    }
   ],
   "source": [
    "loc = df['Cholesterol'].mean()\n",
    "scale = df['Cholesterol'].std()\n",
    "loc, scale"
   ]
  },
  {
   "cell_type": "code",
   "execution_count": 15,
   "id": "40a36a45",
   "metadata": {},
   "outputs": [
    {
     "data": {
      "text/plain": [
       "Text(0.5, 1.0, 'Распределение значений уровня холестерина в крови у пациентов выборки.')"
      ]
     },
     "execution_count": 15,
     "metadata": {},
     "output_type": "execute_result"
    },
    {
     "data": {
      "image/png": "[encoded data removed]",
      "text/plain": [
       "<Figure size 720x144 with 1 Axes>"
      ]
     },
     "metadata": {},
     "output_type": "display_data"
    }
   ],
   "source": [
    "ox = np.linspace(0, 500, 1000)\n",
    "oy = np.array([pdf_normal(loc, scale, x) for x in ox])\n",
    "plt.hist(df['Cholesterol'], density=True, bins=15)\n",
    "plt.plot(ox,oy)\n",
    "plt.title('Распределение значений уровня холестерина в крови у пациентов выборки.')"
   ]
  },
  {
   "cell_type": "code",
   "execution_count": 16,
   "id": "f9e3ee34",
   "metadata": {},
   "outputs": [
    {
     "data": {
      "text/plain": [
       "(136.80936819172112, 25.460334138250293)"
      ]
     },
     "execution_count": 16,
     "metadata": {},
     "output_type": "execute_result"
    }
   ],
   "source": [
    "loc = df['MaxHR'].mean()\n",
    "scale = df['MaxHR'].std()\n",
    "loc, scale"
   ]
  },
  {
   "cell_type": "code",
   "execution_count": 17,
   "id": "4aea665b",
   "metadata": {},
   "outputs": [
    {
     "data": {
      "text/plain": [
       "Text(0.5, 1.0, 'Распределение значений пульса в выборке.')"
      ]
     },
     "execution_count": 17,
     "metadata": {},
     "output_type": "execute_result"
    },
    {
     "data": {
      "image/png": "[encoded data removed]",
      "text/plain": [
       "<Figure size 720x144 with 1 Axes>"
      ]
     },
     "metadata": {},
     "output_type": "display_data"
    }
   ],
   "source": [
    "ox = np.linspace(50, 210, 1000)\n",
    "oy = np.array([pdf_normal(loc, scale, x) for x in ox])\n",
    "plt.hist(df['MaxHR'], density=True, bins=15)\n",
    "plt.plot(ox,oy)\n",
    "plt.title('Распределение значений пульса в выборке.')"
   ]
  },
  {
   "cell_type": "markdown",
   "id": "6129d2a0",
   "metadata": {},
   "source": [
    "### Вывод:\n",
    "Данные возраста, значений давления, холестерина в крови и пульса у пациентов в выборке имеют нормальное распределение."
   ]
  },
  {
   "cell_type": "code",
   "execution_count": 18,
   "id": "312df125",
   "metadata": {},
   "outputs": [
    {
     "data": {
      "text/plain": [
       "HeartDisease\n",
       "0    410\n",
       "1    508\n",
       "Name: HeartDisease, dtype: int64"
      ]
     },
     "execution_count": 18,
     "metadata": {},
     "output_type": "execute_result"
    }
   ],
   "source": [
    "df.groupby(['HeartDisease'])['HeartDisease'].count()"
   ]
  },
  {
   "cell_type": "markdown",
   "id": "f6dc48b6",
   "metadata": {},
   "source": [
    "Мы видим, что из $918$ наблюдений, у $410$ пациентов здоровое сердце, а у $508$ - больное. "
   ]
  },
  {
   "cell_type": "markdown",
   "id": "43ca75d6",
   "metadata": {},
   "source": [
    "### 3) Найдём значения медиан, дисперсий, квантилей,минимальные и максимальные значения числовых данных выборки. Посмотрим на объёмы выбросов."
   ]
  },
  {
   "cell_type": "code",
   "execution_count": 19,
   "id": "8776e313",
   "metadata": {},
   "outputs": [
    {
     "data": {
      "text/html": [
       "<div>\n",
       "<style scoped>\n",
       "    .dataframe tbody tr th:only-of-type {\n",
       "        vertical-align: middle;\n",
       "    }\n",
       "\n",
       "    .dataframe tbody tr th {\n",
       "        vertical-align: top;\n",
       "    }\n",
       "\n",
       "    .dataframe thead th {\n",
       "        text-align: right;\n",
       "    }\n",
       "</style>\n",
       "<table border=\"1\" class=\"dataframe\">\n",
       "  <thead>\n",
       "    <tr style=\"text-align: right;\">\n",
       "      <th></th>\n",
       "      <th>Age</th>\n",
       "      <th>RestingBP</th>\n",
       "      <th>Cholesterol</th>\n",
       "      <th>FastingBS</th>\n",
       "      <th>MaxHR</th>\n",
       "      <th>Oldpeak</th>\n",
       "      <th>HeartDisease</th>\n",
       "    </tr>\n",
       "  </thead>\n",
       "  <tbody>\n",
       "    <tr>\n",
       "      <th>count</th>\n",
       "      <td>918.000000</td>\n",
       "      <td>918.000000</td>\n",
       "      <td>918.000000</td>\n",
       "      <td>918.000000</td>\n",
       "      <td>918.000000</td>\n",
       "      <td>918.000000</td>\n",
       "      <td>918.000000</td>\n",
       "    </tr>\n",
       "    <tr>\n",
       "      <th>mean</th>\n",
       "      <td>53.510893</td>\n",
       "      <td>132.396514</td>\n",
       "      <td>198.799564</td>\n",
       "      <td>0.233115</td>\n",
       "      <td>136.809368</td>\n",
       "      <td>0.887364</td>\n",
       "      <td>0.553377</td>\n",
       "    </tr>\n",
       "    <tr>\n",
       "      <th>std</th>\n",
       "      <td>9.432617</td>\n",
       "      <td>18.514154</td>\n",
       "      <td>109.384145</td>\n",
       "      <td>0.423046</td>\n",
       "      <td>25.460334</td>\n",
       "      <td>1.066570</td>\n",
       "      <td>0.497414</td>\n",
       "    </tr>\n",
       "    <tr>\n",
       "      <th>min</th>\n",
       "      <td>28.000000</td>\n",
       "      <td>0.000000</td>\n",
       "      <td>0.000000</td>\n",
       "      <td>0.000000</td>\n",
       "      <td>60.000000</td>\n",
       "      <td>-2.600000</td>\n",
       "      <td>0.000000</td>\n",
       "    </tr>\n",
       "    <tr>\n",
       "      <th>25%</th>\n",
       "      <td>47.000000</td>\n",
       "      <td>120.000000</td>\n",
       "      <td>173.250000</td>\n",
       "      <td>0.000000</td>\n",
       "      <td>120.000000</td>\n",
       "      <td>0.000000</td>\n",
       "      <td>0.000000</td>\n",
       "    </tr>\n",
       "    <tr>\n",
       "      <th>50%</th>\n",
       "      <td>54.000000</td>\n",
       "      <td>130.000000</td>\n",
       "      <td>223.000000</td>\n",
       "      <td>0.000000</td>\n",
       "      <td>138.000000</td>\n",
       "      <td>0.600000</td>\n",
       "      <td>1.000000</td>\n",
       "    </tr>\n",
       "    <tr>\n",
       "      <th>75%</th>\n",
       "      <td>60.000000</td>\n",
       "      <td>140.000000</td>\n",
       "      <td>267.000000</td>\n",
       "      <td>0.000000</td>\n",
       "      <td>156.000000</td>\n",
       "      <td>1.500000</td>\n",
       "      <td>1.000000</td>\n",
       "    </tr>\n",
       "    <tr>\n",
       "      <th>max</th>\n",
       "      <td>77.000000</td>\n",
       "      <td>200.000000</td>\n",
       "      <td>603.000000</td>\n",
       "      <td>1.000000</td>\n",
       "      <td>202.000000</td>\n",
       "      <td>6.200000</td>\n",
       "      <td>1.000000</td>\n",
       "    </tr>\n",
       "  </tbody>\n",
       "</table>\n",
       "</div>"
      ],
      "text/plain": [
       "              Age   RestingBP  Cholesterol   FastingBS       MaxHR  \\\n",
       "count  918.000000  918.000000   918.000000  918.000000  918.000000   \n",
       "mean    53.510893  132.396514   198.799564    0.233115  136.809368   \n",
       "std      9.432617   18.514154   109.384145    0.423046   25.460334   \n",
       "min     28.000000    0.000000     0.000000    0.000000   60.000000   \n",
       "25%     47.000000  120.000000   173.250000    0.000000  120.000000   \n",
       "50%     54.000000  130.000000   223.000000    0.000000  138.000000   \n",
       "75%     60.000000  140.000000   267.000000    0.000000  156.000000   \n",
       "max     77.000000  200.000000   603.000000    1.000000  202.000000   \n",
       "\n",
       "          Oldpeak  HeartDisease  \n",
       "count  918.000000    918.000000  \n",
       "mean     0.887364      0.553377  \n",
       "std      1.066570      0.497414  \n",
       "min     -2.600000      0.000000  \n",
       "25%      0.000000      0.000000  \n",
       "50%      0.600000      1.000000  \n",
       "75%      1.500000      1.000000  \n",
       "max      6.200000      1.000000  "
      ]
     },
     "execution_count": 19,
     "metadata": {},
     "output_type": "execute_result"
    }
   ],
   "source": [
    "df.describe()"
   ]
  },
  {
   "cell_type": "code",
   "execution_count": 20,
   "id": "24785a31",
   "metadata": {},
   "outputs": [
    {
     "data": {
      "text/plain": [
       "(<AxesSubplot:>,)"
      ]
     },
     "execution_count": 20,
     "metadata": {},
     "output_type": "execute_result"
    },
    {
     "data": {
      "image/png": "[encoded data removed]",
      "text/plain": [
       "<Figure size 720x144 with 1 Axes>"
      ]
     },
     "metadata": {},
     "output_type": "display_data"
    }
   ],
   "source": [
    "df[['Age']].boxplot(),"
   ]
  },
  {
   "cell_type": "code",
   "execution_count": 21,
   "id": "bb497921",
   "metadata": {},
   "outputs": [
    {
     "data": {
      "text/plain": [
       "<AxesSubplot:>"
      ]
     },
     "execution_count": 21,
     "metadata": {},
     "output_type": "execute_result"
    },
    {
     "data": {
      "image/png": "[encoded data removed]",
      "text/plain": [
       "<Figure size 720x144 with 1 Axes>"
      ]
     },
     "metadata": {},
     "output_type": "display_data"
    }
   ],
   "source": [
    "df[['RestingBP']].boxplot()"
   ]
  },
  {
   "cell_type": "code",
   "execution_count": 22,
   "id": "c5ae4475",
   "metadata": {},
   "outputs": [
    {
     "data": {
      "text/plain": [
       "<AxesSubplot:>"
      ]
     },
     "execution_count": 22,
     "metadata": {},
     "output_type": "execute_result"
    },
    {
     "data": {
      "image/png": "[encoded data removed]",
      "text/plain": [
       "<Figure size 720x144 with 1 Axes>"
      ]
     },
     "metadata": {},
     "output_type": "display_data"
    }
   ],
   "source": [
    "df[['Cholesterol']].boxplot()"
   ]
  },
  {
   "cell_type": "code",
   "execution_count": 23,
   "id": "eb0197ca",
   "metadata": {},
   "outputs": [
    {
     "data": {
      "text/plain": [
       "<AxesSubplot:>"
      ]
     },
     "execution_count": 23,
     "metadata": {},
     "output_type": "execute_result"
    },
    {
     "data": {
      "image/png": "[encoded data removed]",
      "text/plain": [
       "<Figure size 720x144 with 1 Axes>"
      ]
     },
     "metadata": {},
     "output_type": "display_data"
    }
   ],
   "source": [
    "df[['MaxHR']].boxplot()"
   ]
  },
  {
   "cell_type": "markdown",
   "id": "0bdd9a32",
   "metadata": {},
   "source": [
    "##### Наибольший выброс мы видим в значениях показателя холестерина в крови, а также показателей давления."
   ]
  },
  {
   "cell_type": "markdown",
   "id": "1cfd5335",
   "metadata": {},
   "source": [
    "### 4) Построим таблицу корреляции."
   ]
  },
  {
   "cell_type": "code",
   "execution_count": 24,
   "id": "c7fff4e7",
   "metadata": {},
   "outputs": [
    {
     "data": {
      "text/html": [
       "<div>\n",
       "<style scoped>\n",
       "    .dataframe tbody tr th:only-of-type {\n",
       "        vertical-align: middle;\n",
       "    }\n",
       "\n",
       "    .dataframe tbody tr th {\n",
       "        vertical-align: top;\n",
       "    }\n",
       "\n",
       "    .dataframe thead th {\n",
       "        text-align: right;\n",
       "    }\n",
       "</style>\n",
       "<table border=\"1\" class=\"dataframe\">\n",
       "  <thead>\n",
       "    <tr style=\"text-align: right;\">\n",
       "      <th></th>\n",
       "      <th>Age</th>\n",
       "      <th>RestingBP</th>\n",
       "      <th>Cholesterol</th>\n",
       "      <th>FastingBS</th>\n",
       "      <th>MaxHR</th>\n",
       "      <th>Oldpeak</th>\n",
       "      <th>HeartDisease</th>\n",
       "    </tr>\n",
       "  </thead>\n",
       "  <tbody>\n",
       "    <tr>\n",
       "      <th>Age</th>\n",
       "      <td>1.000000</td>\n",
       "      <td>0.254399</td>\n",
       "      <td>-0.095282</td>\n",
       "      <td>0.198039</td>\n",
       "      <td>-0.382045</td>\n",
       "      <td>0.258612</td>\n",
       "      <td>0.282039</td>\n",
       "    </tr>\n",
       "    <tr>\n",
       "      <th>RestingBP</th>\n",
       "      <td>0.254399</td>\n",
       "      <td>1.000000</td>\n",
       "      <td>0.100893</td>\n",
       "      <td>0.070193</td>\n",
       "      <td>-0.112135</td>\n",
       "      <td>0.164803</td>\n",
       "      <td>0.107589</td>\n",
       "    </tr>\n",
       "    <tr>\n",
       "      <th>Cholesterol</th>\n",
       "      <td>-0.095282</td>\n",
       "      <td>0.100893</td>\n",
       "      <td>1.000000</td>\n",
       "      <td>-0.260974</td>\n",
       "      <td>0.235792</td>\n",
       "      <td>0.050148</td>\n",
       "      <td>-0.232741</td>\n",
       "    </tr>\n",
       "    <tr>\n",
       "      <th>FastingBS</th>\n",
       "      <td>0.198039</td>\n",
       "      <td>0.070193</td>\n",
       "      <td>-0.260974</td>\n",
       "      <td>1.000000</td>\n",
       "      <td>-0.131438</td>\n",
       "      <td>0.052698</td>\n",
       "      <td>0.267291</td>\n",
       "    </tr>\n",
       "    <tr>\n",
       "      <th>MaxHR</th>\n",
       "      <td>-0.382045</td>\n",
       "      <td>-0.112135</td>\n",
       "      <td>0.235792</td>\n",
       "      <td>-0.131438</td>\n",
       "      <td>1.000000</td>\n",
       "      <td>-0.160691</td>\n",
       "      <td>-0.400421</td>\n",
       "    </tr>\n",
       "    <tr>\n",
       "      <th>Oldpeak</th>\n",
       "      <td>0.258612</td>\n",
       "      <td>0.164803</td>\n",
       "      <td>0.050148</td>\n",
       "      <td>0.052698</td>\n",
       "      <td>-0.160691</td>\n",
       "      <td>1.000000</td>\n",
       "      <td>0.403951</td>\n",
       "    </tr>\n",
       "    <tr>\n",
       "      <th>HeartDisease</th>\n",
       "      <td>0.282039</td>\n",
       "      <td>0.107589</td>\n",
       "      <td>-0.232741</td>\n",
       "      <td>0.267291</td>\n",
       "      <td>-0.400421</td>\n",
       "      <td>0.403951</td>\n",
       "      <td>1.000000</td>\n",
       "    </tr>\n",
       "  </tbody>\n",
       "</table>\n",
       "</div>"
      ],
      "text/plain": [
       "                   Age  RestingBP  Cholesterol  FastingBS     MaxHR   Oldpeak  \\\n",
       "Age           1.000000   0.254399    -0.095282   0.198039 -0.382045  0.258612   \n",
       "RestingBP     0.254399   1.000000     0.100893   0.070193 -0.112135  0.164803   \n",
       "Cholesterol  -0.095282   0.100893     1.000000  -0.260974  0.235792  0.050148   \n",
       "FastingBS     0.198039   0.070193    -0.260974   1.000000 -0.131438  0.052698   \n",
       "MaxHR        -0.382045  -0.112135     0.235792  -0.131438  1.000000 -0.160691   \n",
       "Oldpeak       0.258612   0.164803     0.050148   0.052698 -0.160691  1.000000   \n",
       "HeartDisease  0.282039   0.107589    -0.232741   0.267291 -0.400421  0.403951   \n",
       "\n",
       "              HeartDisease  \n",
       "Age               0.282039  \n",
       "RestingBP         0.107589  \n",
       "Cholesterol      -0.232741  \n",
       "FastingBS         0.267291  \n",
       "MaxHR            -0.400421  \n",
       "Oldpeak           0.403951  \n",
       "HeartDisease      1.000000  "
      ]
     },
     "execution_count": 24,
     "metadata": {},
     "output_type": "execute_result"
    }
   ],
   "source": [
    "df.corr()"
   ]
  },
  {
   "cell_type": "markdown",
   "id": "34c1bda2",
   "metadata": {},
   "source": [
    "#### На основе таблицы корреляции делаем вывод, что созависимы значения возраста и значений давления, возраста и  аномально низкого следа ST на кардиограмме, возраста и группы здоровья, но самое большая взаимосвязь между аномально низким следом ST на кардиограмме и группой здоровья, из чего делаем вывод о том , что это один из главных факторов для диагностики сердечных заболеваний."
   ]
  },
  {
   "cell_type": "markdown",
   "id": "82d47e28",
   "metadata": {},
   "source": [
    "### 5) Фильтруем данные. Оставляем только те, где у пациентов выявленны заболевания сердца."
   ]
  },
  {
   "cell_type": "code",
   "execution_count": 25,
   "id": "f1fdf62d",
   "metadata": {},
   "outputs": [
    {
     "data": {
      "text/html": [
       "<div>\n",
       "<style scoped>\n",
       "    .dataframe tbody tr th:only-of-type {\n",
       "        vertical-align: middle;\n",
       "    }\n",
       "\n",
       "    .dataframe tbody tr th {\n",
       "        vertical-align: top;\n",
       "    }\n",
       "\n",
       "    .dataframe thead th {\n",
       "        text-align: right;\n",
       "    }\n",
       "</style>\n",
       "<table border=\"1\" class=\"dataframe\">\n",
       "  <thead>\n",
       "    <tr style=\"text-align: right;\">\n",
       "      <th></th>\n",
       "      <th>Age</th>\n",
       "      <th>Sex</th>\n",
       "      <th>ChestPainType</th>\n",
       "      <th>RestingBP</th>\n",
       "      <th>Cholesterol</th>\n",
       "      <th>FastingBS</th>\n",
       "      <th>RestingECG</th>\n",
       "      <th>MaxHR</th>\n",
       "      <th>ExerciseAngina</th>\n",
       "      <th>Oldpeak</th>\n",
       "      <th>ST_Slope</th>\n",
       "      <th>HeartDisease</th>\n",
       "    </tr>\n",
       "  </thead>\n",
       "  <tbody>\n",
       "    <tr>\n",
       "      <th>1</th>\n",
       "      <td>49</td>\n",
       "      <td>F</td>\n",
       "      <td>NAP</td>\n",
       "      <td>160</td>\n",
       "      <td>180</td>\n",
       "      <td>0</td>\n",
       "      <td>Normal</td>\n",
       "      <td>156</td>\n",
       "      <td>N</td>\n",
       "      <td>1.0</td>\n",
       "      <td>Flat</td>\n",
       "      <td>1</td>\n",
       "    </tr>\n",
       "    <tr>\n",
       "      <th>3</th>\n",
       "      <td>48</td>\n",
       "      <td>F</td>\n",
       "      <td>ASY</td>\n",
       "      <td>138</td>\n",
       "      <td>214</td>\n",
       "      <td>0</td>\n",
       "      <td>Normal</td>\n",
       "      <td>108</td>\n",
       "      <td>Y</td>\n",
       "      <td>1.5</td>\n",
       "      <td>Flat</td>\n",
       "      <td>1</td>\n",
       "    </tr>\n",
       "    <tr>\n",
       "      <th>8</th>\n",
       "      <td>37</td>\n",
       "      <td>M</td>\n",
       "      <td>ASY</td>\n",
       "      <td>140</td>\n",
       "      <td>207</td>\n",
       "      <td>0</td>\n",
       "      <td>Normal</td>\n",
       "      <td>130</td>\n",
       "      <td>Y</td>\n",
       "      <td>1.5</td>\n",
       "      <td>Flat</td>\n",
       "      <td>1</td>\n",
       "    </tr>\n",
       "    <tr>\n",
       "      <th>11</th>\n",
       "      <td>58</td>\n",
       "      <td>M</td>\n",
       "      <td>ATA</td>\n",
       "      <td>136</td>\n",
       "      <td>164</td>\n",
       "      <td>0</td>\n",
       "      <td>ST</td>\n",
       "      <td>99</td>\n",
       "      <td>Y</td>\n",
       "      <td>2.0</td>\n",
       "      <td>Flat</td>\n",
       "      <td>1</td>\n",
       "    </tr>\n",
       "    <tr>\n",
       "      <th>13</th>\n",
       "      <td>49</td>\n",
       "      <td>M</td>\n",
       "      <td>ASY</td>\n",
       "      <td>140</td>\n",
       "      <td>234</td>\n",
       "      <td>0</td>\n",
       "      <td>Normal</td>\n",
       "      <td>140</td>\n",
       "      <td>Y</td>\n",
       "      <td>1.0</td>\n",
       "      <td>Flat</td>\n",
       "      <td>1</td>\n",
       "    </tr>\n",
       "    <tr>\n",
       "      <th>...</th>\n",
       "      <td>...</td>\n",
       "      <td>...</td>\n",
       "      <td>...</td>\n",
       "      <td>...</td>\n",
       "      <td>...</td>\n",
       "      <td>...</td>\n",
       "      <td>...</td>\n",
       "      <td>...</td>\n",
       "      <td>...</td>\n",
       "      <td>...</td>\n",
       "      <td>...</td>\n",
       "      <td>...</td>\n",
       "    </tr>\n",
       "    <tr>\n",
       "      <th>912</th>\n",
       "      <td>57</td>\n",
       "      <td>F</td>\n",
       "      <td>ASY</td>\n",
       "      <td>140</td>\n",
       "      <td>241</td>\n",
       "      <td>0</td>\n",
       "      <td>Normal</td>\n",
       "      <td>123</td>\n",
       "      <td>Y</td>\n",
       "      <td>0.2</td>\n",
       "      <td>Flat</td>\n",
       "      <td>1</td>\n",
       "    </tr>\n",
       "    <tr>\n",
       "      <th>913</th>\n",
       "      <td>45</td>\n",
       "      <td>M</td>\n",
       "      <td>TA</td>\n",
       "      <td>110</td>\n",
       "      <td>264</td>\n",
       "      <td>0</td>\n",
       "      <td>Normal</td>\n",
       "      <td>132</td>\n",
       "      <td>N</td>\n",
       "      <td>1.2</td>\n",
       "      <td>Flat</td>\n",
       "      <td>1</td>\n",
       "    </tr>\n",
       "    <tr>\n",
       "      <th>914</th>\n",
       "      <td>68</td>\n",
       "      <td>M</td>\n",
       "      <td>ASY</td>\n",
       "      <td>144</td>\n",
       "      <td>193</td>\n",
       "      <td>1</td>\n",
       "      <td>Normal</td>\n",
       "      <td>141</td>\n",
       "      <td>N</td>\n",
       "      <td>3.4</td>\n",
       "      <td>Flat</td>\n",
       "      <td>1</td>\n",
       "    </tr>\n",
       "    <tr>\n",
       "      <th>915</th>\n",
       "      <td>57</td>\n",
       "      <td>M</td>\n",
       "      <td>ASY</td>\n",
       "      <td>130</td>\n",
       "      <td>131</td>\n",
       "      <td>0</td>\n",
       "      <td>Normal</td>\n",
       "      <td>115</td>\n",
       "      <td>Y</td>\n",
       "      <td>1.2</td>\n",
       "      <td>Flat</td>\n",
       "      <td>1</td>\n",
       "    </tr>\n",
       "    <tr>\n",
       "      <th>916</th>\n",
       "      <td>57</td>\n",
       "      <td>F</td>\n",
       "      <td>ATA</td>\n",
       "      <td>130</td>\n",
       "      <td>236</td>\n",
       "      <td>0</td>\n",
       "      <td>LVH</td>\n",
       "      <td>174</td>\n",
       "      <td>N</td>\n",
       "      <td>0.0</td>\n",
       "      <td>Flat</td>\n",
       "      <td>1</td>\n",
       "    </tr>\n",
       "  </tbody>\n",
       "</table>\n",
       "<p>508 rows × 12 columns</p>\n",
       "</div>"
      ],
      "text/plain": [
       "     Age Sex ChestPainType  RestingBP  Cholesterol  FastingBS RestingECG  \\\n",
       "1     49   F           NAP        160          180          0     Normal   \n",
       "3     48   F           ASY        138          214          0     Normal   \n",
       "8     37   M           ASY        140          207          0     Normal   \n",
       "11    58   M           ATA        136          164          0         ST   \n",
       "13    49   M           ASY        140          234          0     Normal   \n",
       "..   ...  ..           ...        ...          ...        ...        ...   \n",
       "912   57   F           ASY        140          241          0     Normal   \n",
       "913   45   M            TA        110          264          0     Normal   \n",
       "914   68   M           ASY        144          193          1     Normal   \n",
       "915   57   M           ASY        130          131          0     Normal   \n",
       "916   57   F           ATA        130          236          0        LVH   \n",
       "\n",
       "     MaxHR ExerciseAngina  Oldpeak ST_Slope  HeartDisease  \n",
       "1      156              N      1.0     Flat             1  \n",
       "3      108              Y      1.5     Flat             1  \n",
       "8      130              Y      1.5     Flat             1  \n",
       "11      99              Y      2.0     Flat             1  \n",
       "13     140              Y      1.0     Flat             1  \n",
       "..     ...            ...      ...      ...           ...  \n",
       "912    123              Y      0.2     Flat             1  \n",
       "913    132              N      1.2     Flat             1  \n",
       "914    141              N      3.4     Flat             1  \n",
       "915    115              Y      1.2     Flat             1  \n",
       "916    174              N      0.0     Flat             1  \n",
       "\n",
       "[508 rows x 12 columns]"
      ]
     },
     "execution_count": 25,
     "metadata": {},
     "output_type": "execute_result"
    }
   ],
   "source": [
    "filtered_df = df[df.HeartDisease == 1]\n",
    " \n",
    "filtered_df "
   ]
  },
  {
   "cell_type": "markdown",
   "id": "c5e3cc97",
   "metadata": {},
   "source": [
    "Видим, что фильтрация удалась, т.к количество наблюдений соответствует количеству пациентов с больным сердцем из первоначальной выборки."
   ]
  },
  {
   "cell_type": "markdown",
   "id": "deba8868",
   "metadata": {},
   "source": [
    "### 6) И сейчас визуализируем данные, имеющие значение категорий, а не числовые значения."
   ]
  },
  {
   "cell_type": "markdown",
   "id": "d60de592",
   "metadata": {},
   "source": [
    "#### a) Расмотрим распределение заболеваний между мужчинами и женщинами."
   ]
  },
  {
   "cell_type": "code",
   "execution_count": 26,
   "id": "0189e3d9",
   "metadata": {},
   "outputs": [
    {
     "data": {
      "text/plain": [
       "<AxesSubplot:xlabel='Sex', ylabel='count'>"
      ]
     },
     "execution_count": 26,
     "metadata": {},
     "output_type": "execute_result"
    },
    {
     "data": {
      "image/png": "[encoded data removed]",
      "text/plain": [
       "<Figure size 720x144 with 1 Axes>"
      ]
     },
     "metadata": {},
     "output_type": "display_data"
    }
   ],
   "source": [
    "sns.countplot(x = 'Sex' , data=filtered_df)"
   ]
  },
  {
   "cell_type": "code",
   "execution_count": 27,
   "id": "1ca97681",
   "metadata": {},
   "outputs": [
    {
     "data": {
      "text/plain": [
       "Sex\n",
       "F     50\n",
       "M    458\n",
       "Name: Sex, dtype: int64"
      ]
     },
     "execution_count": 27,
     "metadata": {},
     "output_type": "execute_result"
    }
   ],
   "source": [
    "filtered_df.groupby(['Sex'])['Sex'].count()"
   ]
  },
  {
   "cell_type": "markdown",
   "id": "59889ab1",
   "metadata": {},
   "source": [
    "####  Как видим заболеваниям сердца подвержены в основном мужчины."
   ]
  },
  {
   "cell_type": "markdown",
   "id": "aee45bc6",
   "metadata": {},
   "source": [
    "#### b) Посмотрим на распределение видов сердечных болей."
   ]
  },
  {
   "cell_type": "code",
   "execution_count": 28,
   "id": "8ed4cfaa",
   "metadata": {},
   "outputs": [
    {
     "data": {
      "text/plain": [
       "<AxesSubplot:xlabel='ChestPainType', ylabel='count'>"
      ]
     },
     "execution_count": 28,
     "metadata": {},
     "output_type": "execute_result"
    },
    {
     "data": {
      "image/png": "[encoded data removed]",
      "text/plain": [
       "<Figure size 720x144 with 1 Axes>"
      ]
     },
     "metadata": {},
     "output_type": "display_data"
    }
   ],
   "source": [
    "sns.countplot(x = 'ChestPainType' , data=filtered_df)"
   ]
  },
  {
   "cell_type": "code",
   "execution_count": 29,
   "id": "712fa1ad",
   "metadata": {},
   "outputs": [
    {
     "data": {
      "text/plain": [
       "ChestPainType\n",
       "ASY    392\n",
       "ATA     24\n",
       "NAP     72\n",
       "TA      20\n",
       "Name: ChestPainType, dtype: int64"
      ]
     },
     "execution_count": 29,
     "metadata": {},
     "output_type": "execute_result"
    }
   ],
   "source": [
    "filtered_df.groupby(['ChestPainType'])['ChestPainType'].count()"
   ]
  },
  {
   "cell_type": "markdown",
   "id": "a940b57a",
   "metadata": {},
   "source": [
    "#### И вот, первая неожиданность, оказывается пациенты с заболеваниями сердца, чаще всего не отмечают специфических болей в области сердца."
   ]
  },
  {
   "cell_type": "markdown",
   "id": "01b4cbae",
   "metadata": {},
   "source": [
    "#### c) Посмотрим  результаты электрокардиограммы в состоянии покоя."
   ]
  },
  {
   "cell_type": "code",
   "execution_count": 30,
   "id": "20ec2796",
   "metadata": {},
   "outputs": [
    {
     "data": {
      "text/plain": [
       "<AxesSubplot:xlabel='RestingECG', ylabel='count'>"
      ]
     },
     "execution_count": 30,
     "metadata": {},
     "output_type": "execute_result"
    },
    {
     "data": {
      "image/png": "[encoded data removed]",
      "text/plain": [
       "<Figure size 720x144 with 1 Axes>"
      ]
     },
     "metadata": {},
     "output_type": "display_data"
    }
   ],
   "source": [
    "sns.countplot(x = 'RestingECG' , data=filtered_df)"
   ]
  },
  {
   "cell_type": "code",
   "execution_count": 31,
   "id": "91d442c6",
   "metadata": {},
   "outputs": [
    {
     "data": {
      "text/plain": [
       "RestingECG\n",
       "LVH       106\n",
       "Normal    285\n",
       "ST        117\n",
       "Name: RestingECG, dtype: int64"
      ]
     },
     "execution_count": 31,
     "metadata": {},
     "output_type": "execute_result"
    }
   ],
   "source": [
    "filtered_df.groupby(['RestingECG'])['RestingECG'].count()"
   ]
  },
  {
   "cell_type": "markdown",
   "id": "a3cb6d28",
   "metadata": {},
   "source": [
    "#### И снова удивление: более чем в половине случаев у пациентов нормальная кардиограмма!"
   ]
  },
  {
   "cell_type": "markdown",
   "id": "78e599fb",
   "metadata": {},
   "source": [
    "#### d) Посмотрим на случаи диагностированной стенокордии."
   ]
  },
  {
   "cell_type": "code",
   "execution_count": 32,
   "id": "ae204c27",
   "metadata": {},
   "outputs": [
    {
     "data": {
      "text/plain": [
       "<AxesSubplot:xlabel='ExerciseAngina', ylabel='count'>"
      ]
     },
     "execution_count": 32,
     "metadata": {},
     "output_type": "execute_result"
    },
    {
     "data": {
      "image/png": "[encoded data removed]",
      "text/plain": [
       "<Figure size 720x144 with 1 Axes>"
      ]
     },
     "metadata": {},
     "output_type": "display_data"
    }
   ],
   "source": [
    "sns.countplot(x = 'ExerciseAngina' , data=filtered_df)"
   ]
  },
  {
   "cell_type": "code",
   "execution_count": 33,
   "id": "574e4f69",
   "metadata": {},
   "outputs": [
    {
     "data": {
      "text/plain": [
       "ExerciseAngina\n",
       "N    192\n",
       "Y    316\n",
       "Name: ExerciseAngina, dtype: int64"
      ]
     },
     "execution_count": 33,
     "metadata": {},
     "output_type": "execute_result"
    }
   ],
   "source": [
    "filtered_df.groupby(['ExerciseAngina'])['ExerciseAngina'].count()"
   ]
  },
  {
   "cell_type": "markdown",
   "id": "c4106853",
   "metadata": {},
   "source": [
    "#### Здесь без сюрпризов. У пациентов с заболеваниями сердца, у большенства, диагностирована стенокардия."
   ]
  },
  {
   "cell_type": "markdown",
   "id": "0fc08239",
   "metadata": {},
   "source": [
    "#### e) Изучим наклон сегмента ST при пиковой физической нагрузке."
   ]
  },
  {
   "cell_type": "code",
   "execution_count": 34,
   "id": "51b6cb2d",
   "metadata": {},
   "outputs": [
    {
     "data": {
      "text/plain": [
       "<AxesSubplot:xlabel='ST_Slope', ylabel='count'>"
      ]
     },
     "execution_count": 34,
     "metadata": {},
     "output_type": "execute_result"
    },
    {
     "data": {
      "image/png": "[encoded data removed]",
      "text/plain": [
       "<Figure size 720x144 with 1 Axes>"
      ]
     },
     "metadata": {},
     "output_type": "display_data"
    }
   ],
   "source": [
    "sns.countplot(x = 'ST_Slope' , data=filtered_df)"
   ]
  },
  {
   "cell_type": "code",
   "execution_count": 35,
   "id": "9d9444c7",
   "metadata": {},
   "outputs": [
    {
     "data": {
      "text/plain": [
       "ST_Slope\n",
       "Down     49\n",
       "Flat    381\n",
       "Up       78\n",
       "Name: ST_Slope, dtype: int64"
      ]
     },
     "execution_count": 35,
     "metadata": {},
     "output_type": "execute_result"
    }
   ],
   "source": [
    "filtered_df.groupby(['ST_Slope'])['ST_Slope'].count()"
   ]
  },
  {
   "cell_type": "markdown",
   "id": "06faf193",
   "metadata": {},
   "source": [
    "#### Большинство имеют нулевой наклон ST."
   ]
  },
  {
   "cell_type": "markdown",
   "id": "33c81c4d",
   "metadata": {},
   "source": [
    "### 7) Произведём некоторые манипуляции с нашей таблицей данных для дальнейшего прогноза и изучения их."
   ]
  },
  {
   "cell_type": "code",
   "execution_count": 36,
   "id": "eef0e3ed",
   "metadata": {},
   "outputs": [
    {
     "data": {
      "text/html": [
       "<div>\n",
       "<style scoped>\n",
       "    .dataframe tbody tr th:only-of-type {\n",
       "        vertical-align: middle;\n",
       "    }\n",
       "\n",
       "    .dataframe tbody tr th {\n",
       "        vertical-align: top;\n",
       "    }\n",
       "\n",
       "    .dataframe thead th {\n",
       "        text-align: right;\n",
       "    }\n",
       "</style>\n",
       "<table border=\"1\" class=\"dataframe\">\n",
       "  <thead>\n",
       "    <tr style=\"text-align: right;\">\n",
       "      <th></th>\n",
       "      <th>Age</th>\n",
       "      <th>Sex</th>\n",
       "      <th>ChestPainType</th>\n",
       "      <th>RestingBP</th>\n",
       "      <th>Cholesterol</th>\n",
       "      <th>FastingBS</th>\n",
       "      <th>RestingECG</th>\n",
       "      <th>MaxHR</th>\n",
       "      <th>ExerciseAngina</th>\n",
       "      <th>Oldpeak</th>\n",
       "      <th>ST_Slope</th>\n",
       "      <th>HeartDisease</th>\n",
       "      <th>ID</th>\n",
       "    </tr>\n",
       "  </thead>\n",
       "  <tbody>\n",
       "    <tr>\n",
       "      <th>1</th>\n",
       "      <td>49</td>\n",
       "      <td>F</td>\n",
       "      <td>NAP</td>\n",
       "      <td>160</td>\n",
       "      <td>180</td>\n",
       "      <td>0</td>\n",
       "      <td>Normal</td>\n",
       "      <td>156</td>\n",
       "      <td>N</td>\n",
       "      <td>1.0</td>\n",
       "      <td>Flat</td>\n",
       "      <td>1</td>\n",
       "      <td>0</td>\n",
       "    </tr>\n",
       "    <tr>\n",
       "      <th>3</th>\n",
       "      <td>48</td>\n",
       "      <td>F</td>\n",
       "      <td>ASY</td>\n",
       "      <td>138</td>\n",
       "      <td>214</td>\n",
       "      <td>0</td>\n",
       "      <td>Normal</td>\n",
       "      <td>108</td>\n",
       "      <td>Y</td>\n",
       "      <td>1.5</td>\n",
       "      <td>Flat</td>\n",
       "      <td>1</td>\n",
       "      <td>1</td>\n",
       "    </tr>\n",
       "    <tr>\n",
       "      <th>8</th>\n",
       "      <td>37</td>\n",
       "      <td>M</td>\n",
       "      <td>ASY</td>\n",
       "      <td>140</td>\n",
       "      <td>207</td>\n",
       "      <td>0</td>\n",
       "      <td>Normal</td>\n",
       "      <td>130</td>\n",
       "      <td>Y</td>\n",
       "      <td>1.5</td>\n",
       "      <td>Flat</td>\n",
       "      <td>1</td>\n",
       "      <td>2</td>\n",
       "    </tr>\n",
       "    <tr>\n",
       "      <th>11</th>\n",
       "      <td>58</td>\n",
       "      <td>M</td>\n",
       "      <td>ATA</td>\n",
       "      <td>136</td>\n",
       "      <td>164</td>\n",
       "      <td>0</td>\n",
       "      <td>ST</td>\n",
       "      <td>99</td>\n",
       "      <td>Y</td>\n",
       "      <td>2.0</td>\n",
       "      <td>Flat</td>\n",
       "      <td>1</td>\n",
       "      <td>3</td>\n",
       "    </tr>\n",
       "    <tr>\n",
       "      <th>13</th>\n",
       "      <td>49</td>\n",
       "      <td>M</td>\n",
       "      <td>ASY</td>\n",
       "      <td>140</td>\n",
       "      <td>234</td>\n",
       "      <td>0</td>\n",
       "      <td>Normal</td>\n",
       "      <td>140</td>\n",
       "      <td>Y</td>\n",
       "      <td>1.0</td>\n",
       "      <td>Flat</td>\n",
       "      <td>1</td>\n",
       "      <td>4</td>\n",
       "    </tr>\n",
       "    <tr>\n",
       "      <th>...</th>\n",
       "      <td>...</td>\n",
       "      <td>...</td>\n",
       "      <td>...</td>\n",
       "      <td>...</td>\n",
       "      <td>...</td>\n",
       "      <td>...</td>\n",
       "      <td>...</td>\n",
       "      <td>...</td>\n",
       "      <td>...</td>\n",
       "      <td>...</td>\n",
       "      <td>...</td>\n",
       "      <td>...</td>\n",
       "      <td>...</td>\n",
       "    </tr>\n",
       "    <tr>\n",
       "      <th>912</th>\n",
       "      <td>57</td>\n",
       "      <td>F</td>\n",
       "      <td>ASY</td>\n",
       "      <td>140</td>\n",
       "      <td>241</td>\n",
       "      <td>0</td>\n",
       "      <td>Normal</td>\n",
       "      <td>123</td>\n",
       "      <td>Y</td>\n",
       "      <td>0.2</td>\n",
       "      <td>Flat</td>\n",
       "      <td>1</td>\n",
       "      <td>503</td>\n",
       "    </tr>\n",
       "    <tr>\n",
       "      <th>913</th>\n",
       "      <td>45</td>\n",
       "      <td>M</td>\n",
       "      <td>TA</td>\n",
       "      <td>110</td>\n",
       "      <td>264</td>\n",
       "      <td>0</td>\n",
       "      <td>Normal</td>\n",
       "      <td>132</td>\n",
       "      <td>N</td>\n",
       "      <td>1.2</td>\n",
       "      <td>Flat</td>\n",
       "      <td>1</td>\n",
       "      <td>504</td>\n",
       "    </tr>\n",
       "    <tr>\n",
       "      <th>914</th>\n",
       "      <td>68</td>\n",
       "      <td>M</td>\n",
       "      <td>ASY</td>\n",
       "      <td>144</td>\n",
       "      <td>193</td>\n",
       "      <td>1</td>\n",
       "      <td>Normal</td>\n",
       "      <td>141</td>\n",
       "      <td>N</td>\n",
       "      <td>3.4</td>\n",
       "      <td>Flat</td>\n",
       "      <td>1</td>\n",
       "      <td>505</td>\n",
       "    </tr>\n",
       "    <tr>\n",
       "      <th>915</th>\n",
       "      <td>57</td>\n",
       "      <td>M</td>\n",
       "      <td>ASY</td>\n",
       "      <td>130</td>\n",
       "      <td>131</td>\n",
       "      <td>0</td>\n",
       "      <td>Normal</td>\n",
       "      <td>115</td>\n",
       "      <td>Y</td>\n",
       "      <td>1.2</td>\n",
       "      <td>Flat</td>\n",
       "      <td>1</td>\n",
       "      <td>506</td>\n",
       "    </tr>\n",
       "    <tr>\n",
       "      <th>916</th>\n",
       "      <td>57</td>\n",
       "      <td>F</td>\n",
       "      <td>ATA</td>\n",
       "      <td>130</td>\n",
       "      <td>236</td>\n",
       "      <td>0</td>\n",
       "      <td>LVH</td>\n",
       "      <td>174</td>\n",
       "      <td>N</td>\n",
       "      <td>0.0</td>\n",
       "      <td>Flat</td>\n",
       "      <td>1</td>\n",
       "      <td>507</td>\n",
       "    </tr>\n",
       "  </tbody>\n",
       "</table>\n",
       "<p>508 rows × 13 columns</p>\n",
       "</div>"
      ],
      "text/plain": [
       "     Age Sex ChestPainType  RestingBP  Cholesterol  FastingBS RestingECG  \\\n",
       "1     49   F           NAP        160          180          0     Normal   \n",
       "3     48   F           ASY        138          214          0     Normal   \n",
       "8     37   M           ASY        140          207          0     Normal   \n",
       "11    58   M           ATA        136          164          0         ST   \n",
       "13    49   M           ASY        140          234          0     Normal   \n",
       "..   ...  ..           ...        ...          ...        ...        ...   \n",
       "912   57   F           ASY        140          241          0     Normal   \n",
       "913   45   M            TA        110          264          0     Normal   \n",
       "914   68   M           ASY        144          193          1     Normal   \n",
       "915   57   M           ASY        130          131          0     Normal   \n",
       "916   57   F           ATA        130          236          0        LVH   \n",
       "\n",
       "     MaxHR ExerciseAngina  Oldpeak ST_Slope  HeartDisease   ID  \n",
       "1      156              N      1.0     Flat             1    0  \n",
       "3      108              Y      1.5     Flat             1    1  \n",
       "8      130              Y      1.5     Flat             1    2  \n",
       "11      99              Y      2.0     Flat             1    3  \n",
       "13     140              Y      1.0     Flat             1    4  \n",
       "..     ...            ...      ...      ...           ...  ...  \n",
       "912    123              Y      0.2     Flat             1  503  \n",
       "913    132              N      1.2     Flat             1  504  \n",
       "914    141              N      3.4     Flat             1  505  \n",
       "915    115              Y      1.2     Flat             1  506  \n",
       "916    174              N      0.0     Flat             1  507  \n",
       "\n",
       "[508 rows x 13 columns]"
      ]
     },
     "execution_count": 36,
     "metadata": {},
     "output_type": "execute_result"
    }
   ],
   "source": [
    "filtered_df[\"ID\"] = [each for each in range(0,508)]\n",
    "filtered_df"
   ]
  },
  {
   "cell_type": "code",
   "execution_count": 37,
   "id": "64c7601a",
   "metadata": {},
   "outputs": [],
   "source": [
    "data_head100 = filtered_df.head(100)\n",
    "data_head100.drop([\"ID\"], axis = 1, inplace = True)"
   ]
  },
  {
   "cell_type": "code",
   "execution_count": 38,
   "id": "7d77ee6f",
   "metadata": {},
   "outputs": [
    {
     "data": {
      "text/plain": [
       "array([<AxesSubplot:>, <AxesSubplot:>, <AxesSubplot:>, <AxesSubplot:>,\n",
       "       <AxesSubplot:>, <AxesSubplot:>, <AxesSubplot:>], dtype=object)"
      ]
     },
     "execution_count": 38,
     "metadata": {},
     "output_type": "execute_result"
    },
    {
     "data": {
      "image/png": "[encoded data removed]",
      "text/plain": [
       "<Figure size 720x144 with 7 Axes>"
      ]
     },
     "metadata": {},
     "output_type": "display_data"
    }
   ],
   "source": [
    "data_head100.plot(subplots = True)"
   ]
  },
  {
   "cell_type": "markdown",
   "id": "cff3e2ef",
   "metadata": {},
   "source": [
    "#### a) Строим таблицу корреляции."
   ]
  },
  {
   "cell_type": "code",
   "execution_count": 39,
   "id": "79055ff1",
   "metadata": {},
   "outputs": [
    {
     "data": {
      "text/html": [
       "<div>\n",
       "<style scoped>\n",
       "    .dataframe tbody tr th:only-of-type {\n",
       "        vertical-align: middle;\n",
       "    }\n",
       "\n",
       "    .dataframe tbody tr th {\n",
       "        vertical-align: top;\n",
       "    }\n",
       "\n",
       "    .dataframe thead th {\n",
       "        text-align: right;\n",
       "    }\n",
       "</style>\n",
       "<table border=\"1\" class=\"dataframe\">\n",
       "  <thead>\n",
       "    <tr style=\"text-align: right;\">\n",
       "      <th></th>\n",
       "      <th>Age</th>\n",
       "      <th>RestingBP</th>\n",
       "      <th>Cholesterol</th>\n",
       "      <th>FastingBS</th>\n",
       "      <th>MaxHR</th>\n",
       "      <th>Oldpeak</th>\n",
       "      <th>HeartDisease</th>\n",
       "      <th>ID</th>\n",
       "    </tr>\n",
       "  </thead>\n",
       "  <tbody>\n",
       "    <tr>\n",
       "      <th>Age</th>\n",
       "      <td>1.000000</td>\n",
       "      <td>0.260211</td>\n",
       "      <td>-0.041392</td>\n",
       "      <td>0.096688</td>\n",
       "      <td>-0.246705</td>\n",
       "      <td>0.126277</td>\n",
       "      <td>NaN</td>\n",
       "      <td>0.298722</td>\n",
       "    </tr>\n",
       "    <tr>\n",
       "      <th>RestingBP</th>\n",
       "      <td>0.260211</td>\n",
       "      <td>1.000000</td>\n",
       "      <td>0.167097</td>\n",
       "      <td>0.028124</td>\n",
       "      <td>-0.112153</td>\n",
       "      <td>0.155366</td>\n",
       "      <td>NaN</td>\n",
       "      <td>0.057275</td>\n",
       "    </tr>\n",
       "    <tr>\n",
       "      <th>Cholesterol</th>\n",
       "      <td>-0.041392</td>\n",
       "      <td>0.167097</td>\n",
       "      <td>1.000000</td>\n",
       "      <td>-0.295467</td>\n",
       "      <td>0.187556</td>\n",
       "      <td>0.210180</td>\n",
       "      <td>NaN</td>\n",
       "      <td>0.235498</td>\n",
       "    </tr>\n",
       "    <tr>\n",
       "      <th>FastingBS</th>\n",
       "      <td>0.096688</td>\n",
       "      <td>0.028124</td>\n",
       "      <td>-0.295467</td>\n",
       "      <td>1.000000</td>\n",
       "      <td>-0.029182</td>\n",
       "      <td>-0.108454</td>\n",
       "      <td>NaN</td>\n",
       "      <td>-0.089155</td>\n",
       "    </tr>\n",
       "    <tr>\n",
       "      <th>MaxHR</th>\n",
       "      <td>-0.246705</td>\n",
       "      <td>-0.112153</td>\n",
       "      <td>0.187556</td>\n",
       "      <td>-0.029182</td>\n",
       "      <td>1.000000</td>\n",
       "      <td>0.026167</td>\n",
       "      <td>NaN</td>\n",
       "      <td>0.159057</td>\n",
       "    </tr>\n",
       "    <tr>\n",
       "      <th>Oldpeak</th>\n",
       "      <td>0.126277</td>\n",
       "      <td>0.155366</td>\n",
       "      <td>0.210180</td>\n",
       "      <td>-0.108454</td>\n",
       "      <td>0.026167</td>\n",
       "      <td>1.000000</td>\n",
       "      <td>NaN</td>\n",
       "      <td>0.177162</td>\n",
       "    </tr>\n",
       "    <tr>\n",
       "      <th>HeartDisease</th>\n",
       "      <td>NaN</td>\n",
       "      <td>NaN</td>\n",
       "      <td>NaN</td>\n",
       "      <td>NaN</td>\n",
       "      <td>NaN</td>\n",
       "      <td>NaN</td>\n",
       "      <td>NaN</td>\n",
       "      <td>NaN</td>\n",
       "    </tr>\n",
       "    <tr>\n",
       "      <th>ID</th>\n",
       "      <td>0.298722</td>\n",
       "      <td>0.057275</td>\n",
       "      <td>0.235498</td>\n",
       "      <td>-0.089155</td>\n",
       "      <td>0.159057</td>\n",
       "      <td>0.177162</td>\n",
       "      <td>NaN</td>\n",
       "      <td>1.000000</td>\n",
       "    </tr>\n",
       "  </tbody>\n",
       "</table>\n",
       "</div>"
      ],
      "text/plain": [
       "                   Age  RestingBP  Cholesterol  FastingBS     MaxHR   Oldpeak  \\\n",
       "Age           1.000000   0.260211    -0.041392   0.096688 -0.246705  0.126277   \n",
       "RestingBP     0.260211   1.000000     0.167097   0.028124 -0.112153  0.155366   \n",
       "Cholesterol  -0.041392   0.167097     1.000000  -0.295467  0.187556  0.210180   \n",
       "FastingBS     0.096688   0.028124    -0.295467   1.000000 -0.029182 -0.108454   \n",
       "MaxHR        -0.246705  -0.112153     0.187556  -0.029182  1.000000  0.026167   \n",
       "Oldpeak       0.126277   0.155366     0.210180  -0.108454  0.026167  1.000000   \n",
       "HeartDisease       NaN        NaN          NaN        NaN       NaN       NaN   \n",
       "ID            0.298722   0.057275     0.235498  -0.089155  0.159057  0.177162   \n",
       "\n",
       "              HeartDisease        ID  \n",
       "Age                    NaN  0.298722  \n",
       "RestingBP              NaN  0.057275  \n",
       "Cholesterol            NaN  0.235498  \n",
       "FastingBS              NaN -0.089155  \n",
       "MaxHR                  NaN  0.159057  \n",
       "Oldpeak                NaN  0.177162  \n",
       "HeartDisease           NaN       NaN  \n",
       "ID                     NaN  1.000000  "
      ]
     },
     "execution_count": 39,
     "metadata": {},
     "output_type": "execute_result"
    }
   ],
   "source": [
    "filtered_df.corr()"
   ]
  },
  {
   "cell_type": "markdown",
   "id": "24611941",
   "metadata": {},
   "source": [
    "#### На основании таблицы, устанавливаем, что наибольшая зависимость между возрастом и значениями давления."
   ]
  },
  {
   "cell_type": "code",
   "execution_count": 40,
   "id": "fa85442e",
   "metadata": {
    "scrolled": true
   },
   "outputs": [
    {
     "data": {
      "text/html": [
       "<div>\n",
       "<style scoped>\n",
       "    .dataframe tbody tr th:only-of-type {\n",
       "        vertical-align: middle;\n",
       "    }\n",
       "\n",
       "    .dataframe tbody tr th {\n",
       "        vertical-align: top;\n",
       "    }\n",
       "\n",
       "    .dataframe thead th {\n",
       "        text-align: right;\n",
       "    }\n",
       "</style>\n",
       "<table border=\"1\" class=\"dataframe\">\n",
       "  <thead>\n",
       "    <tr style=\"text-align: right;\">\n",
       "      <th></th>\n",
       "      <th>Age</th>\n",
       "      <th>RestingBP</th>\n",
       "      <th>Cholesterol</th>\n",
       "      <th>FastingBS</th>\n",
       "      <th>MaxHR</th>\n",
       "      <th>Oldpeak</th>\n",
       "      <th>HeartDisease</th>\n",
       "      <th>ID</th>\n",
       "    </tr>\n",
       "  </thead>\n",
       "  <tbody>\n",
       "    <tr>\n",
       "      <th>count</th>\n",
       "      <td>508.000000</td>\n",
       "      <td>508.000000</td>\n",
       "      <td>508.000000</td>\n",
       "      <td>508.000000</td>\n",
       "      <td>508.000000</td>\n",
       "      <td>508.000000</td>\n",
       "      <td>508.0</td>\n",
       "      <td>508.000000</td>\n",
       "    </tr>\n",
       "    <tr>\n",
       "      <th>mean</th>\n",
       "      <td>55.899606</td>\n",
       "      <td>134.185039</td>\n",
       "      <td>175.940945</td>\n",
       "      <td>0.334646</td>\n",
       "      <td>127.655512</td>\n",
       "      <td>1.274213</td>\n",
       "      <td>1.0</td>\n",
       "      <td>253.500000</td>\n",
       "    </tr>\n",
       "    <tr>\n",
       "      <th>std</th>\n",
       "      <td>8.727056</td>\n",
       "      <td>19.828685</td>\n",
       "      <td>126.391398</td>\n",
       "      <td>0.472332</td>\n",
       "      <td>23.386923</td>\n",
       "      <td>1.151872</td>\n",
       "      <td>0.0</td>\n",
       "      <td>146.791235</td>\n",
       "    </tr>\n",
       "    <tr>\n",
       "      <th>min</th>\n",
       "      <td>31.000000</td>\n",
       "      <td>0.000000</td>\n",
       "      <td>0.000000</td>\n",
       "      <td>0.000000</td>\n",
       "      <td>60.000000</td>\n",
       "      <td>-2.600000</td>\n",
       "      <td>1.0</td>\n",
       "      <td>0.000000</td>\n",
       "    </tr>\n",
       "    <tr>\n",
       "      <th>25%</th>\n",
       "      <td>51.000000</td>\n",
       "      <td>120.000000</td>\n",
       "      <td>0.000000</td>\n",
       "      <td>0.000000</td>\n",
       "      <td>112.000000</td>\n",
       "      <td>0.000000</td>\n",
       "      <td>1.0</td>\n",
       "      <td>126.750000</td>\n",
       "    </tr>\n",
       "    <tr>\n",
       "      <th>50%</th>\n",
       "      <td>57.000000</td>\n",
       "      <td>132.000000</td>\n",
       "      <td>217.000000</td>\n",
       "      <td>0.000000</td>\n",
       "      <td>126.000000</td>\n",
       "      <td>1.200000</td>\n",
       "      <td>1.0</td>\n",
       "      <td>253.500000</td>\n",
       "    </tr>\n",
       "    <tr>\n",
       "      <th>75%</th>\n",
       "      <td>62.000000</td>\n",
       "      <td>145.000000</td>\n",
       "      <td>267.000000</td>\n",
       "      <td>1.000000</td>\n",
       "      <td>144.250000</td>\n",
       "      <td>2.000000</td>\n",
       "      <td>1.0</td>\n",
       "      <td>380.250000</td>\n",
       "    </tr>\n",
       "    <tr>\n",
       "      <th>max</th>\n",
       "      <td>77.000000</td>\n",
       "      <td>200.000000</td>\n",
       "      <td>603.000000</td>\n",
       "      <td>1.000000</td>\n",
       "      <td>195.000000</td>\n",
       "      <td>6.200000</td>\n",
       "      <td>1.0</td>\n",
       "      <td>507.000000</td>\n",
       "    </tr>\n",
       "  </tbody>\n",
       "</table>\n",
       "</div>"
      ],
      "text/plain": [
       "              Age   RestingBP  Cholesterol   FastingBS       MaxHR  \\\n",
       "count  508.000000  508.000000   508.000000  508.000000  508.000000   \n",
       "mean    55.899606  134.185039   175.940945    0.334646  127.655512   \n",
       "std      8.727056   19.828685   126.391398    0.472332   23.386923   \n",
       "min     31.000000    0.000000     0.000000    0.000000   60.000000   \n",
       "25%     51.000000  120.000000     0.000000    0.000000  112.000000   \n",
       "50%     57.000000  132.000000   217.000000    0.000000  126.000000   \n",
       "75%     62.000000  145.000000   267.000000    1.000000  144.250000   \n",
       "max     77.000000  200.000000   603.000000    1.000000  195.000000   \n",
       "\n",
       "          Oldpeak  HeartDisease          ID  \n",
       "count  508.000000         508.0  508.000000  \n",
       "mean     1.274213           1.0  253.500000  \n",
       "std      1.151872           0.0  146.791235  \n",
       "min     -2.600000           1.0    0.000000  \n",
       "25%      0.000000           1.0  126.750000  \n",
       "50%      1.200000           1.0  253.500000  \n",
       "75%      2.000000           1.0  380.250000  \n",
       "max      6.200000           1.0  507.000000  "
      ]
     },
     "execution_count": 40,
     "metadata": {},
     "output_type": "execute_result"
    }
   ],
   "source": [
    "filtered_df.describe()"
   ]
  },
  {
   "cell_type": "markdown",
   "id": "ad6c0343",
   "metadata": {},
   "source": [
    "#### b) Основываясь на выводе из таблицы кореляции попробуем спрогнозировать значения давления от возрастаи частоты пульса."
   ]
  },
  {
   "cell_type": "code",
   "execution_count": 63,
   "id": "53565dcb",
   "metadata": {},
   "outputs": [],
   "source": [
    "x2 = filtered_df[['Age', 'Cholesterol']].values\n",
    "y2 = filtered_df['RestingBP'].values.reshape(-1, 1)"
   ]
  },
  {
   "cell_type": "code",
   "execution_count": 64,
   "id": "978c7acd",
   "metadata": {},
   "outputs": [
    {
     "data": {
      "text/plain": [
       "array([[160],\n",
       "       [138],\n",
       "       [140],\n",
       "       [136],\n",
       "       [140],\n",
       "       [110],\n",
       "       [100],\n",
       "       [120],\n",
       "       [150],\n",
       "       [145],\n",
       "       [125],\n",
       "       [130],\n",
       "       [140],\n",
       "       [130],\n",
       "       [120],\n",
       "       [110],\n",
       "       [130],\n",
       "       [120],\n",
       "       [120],\n",
       "       [130],\n",
       "       [112],\n",
       "       [120],\n",
       "       [160],\n",
       "       [140],\n",
       "       [120],\n",
       "       [140],\n",
       "       [118],\n",
       "       [130],\n",
       "       [150],\n",
       "       [150],\n",
       "       [140],\n",
       "       [170],\n",
       "       [120],\n",
       "       [160],\n",
       "       [130],\n",
       "       [130],\n",
       "       [150],\n",
       "       [120],\n",
       "       [118],\n",
       "       [150],\n",
       "       [100],\n",
       "       [120],\n",
       "       [130],\n",
       "       [140],\n",
       "       [135],\n",
       "       [180],\n",
       "       [110],\n",
       "       [170],\n",
       "       [150],\n",
       "       [115],\n",
       "       [140],\n",
       "       [150],\n",
       "       [160],\n",
       "       [140],\n",
       "       [160],\n",
       "       [120],\n",
       "       [130],\n",
       "       [155],\n",
       "       [110],\n",
       "       [130],\n",
       "       [140],\n",
       "       [128],\n",
       "       [140],\n",
       "       [140],\n",
       "       [140],\n",
       "       [140],\n",
       "       [140],\n",
       "       [130],\n",
       "       [140],\n",
       "       [160],\n",
       "       [120],\n",
       "       [180],\n",
       "       [120],\n",
       "       [110],\n",
       "       [125],\n",
       "       [106],\n",
       "       [140],\n",
       "       [150],\n",
       "       [110],\n",
       "       [130],\n",
       "       [160],\n",
       "       [145],\n",
       "       [ 92],\n",
       "       [120],\n",
       "       [140],\n",
       "       [160],\n",
       "       [160],\n",
       "       [200],\n",
       "       [160],\n",
       "       [160],\n",
       "       [120],\n",
       "       [122],\n",
       "       [130],\n",
       "       [130],\n",
       "       [135],\n",
       "       [120],\n",
       "       [145],\n",
       "       [120],\n",
       "       [130],\n",
       "       [140],\n",
       "       [130],\n",
       "       [130],\n",
       "       [140],\n",
       "       [135],\n",
       "       [170],\n",
       "       [150],\n",
       "       [115],\n",
       "       [ 95],\n",
       "       [105],\n",
       "       [145],\n",
       "       [110],\n",
       "       [110],\n",
       "       [110],\n",
       "       [160],\n",
       "       [125],\n",
       "       [120],\n",
       "       [ 95],\n",
       "       [120],\n",
       "       [115],\n",
       "       [115],\n",
       "       [ 95],\n",
       "       [125],\n",
       "       [125],\n",
       "       [115],\n",
       "       [145],\n",
       "       [105],\n",
       "       [140],\n",
       "       [130],\n",
       "       [145],\n",
       "       [125],\n",
       "       [100],\n",
       "       [105],\n",
       "       [115],\n",
       "       [100],\n",
       "       [105],\n",
       "       [125],\n",
       "       [ 95],\n",
       "       [130],\n",
       "       [115],\n",
       "       [115],\n",
       "       [ 95],\n",
       "       [130],\n",
       "       [120],\n",
       "       [150],\n",
       "       [140],\n",
       "       [ 95],\n",
       "       [100],\n",
       "       [110],\n",
       "       [110],\n",
       "       [130],\n",
       "       [120],\n",
       "       [135],\n",
       "       [120],\n",
       "       [115],\n",
       "       [137],\n",
       "       [110],\n",
       "       [120],\n",
       "       [140],\n",
       "       [120],\n",
       "       [130],\n",
       "       [120],\n",
       "       [145],\n",
       "       [115],\n",
       "       [120],\n",
       "       [115],\n",
       "       [105],\n",
       "       [160],\n",
       "       [160],\n",
       "       [155],\n",
       "       [120],\n",
       "       [200],\n",
       "       [150],\n",
       "       [135],\n",
       "       [140],\n",
       "       [150],\n",
       "       [135],\n",
       "       [150],\n",
       "       [185],\n",
       "       [135],\n",
       "       [125],\n",
       "       [160],\n",
       "       [155],\n",
       "       [160],\n",
       "       [140],\n",
       "       [120],\n",
       "       [160],\n",
       "       [115],\n",
       "       [115],\n",
       "       [110],\n",
       "       [120],\n",
       "       [150],\n",
       "       [145],\n",
       "       [130],\n",
       "       [140],\n",
       "       [160],\n",
       "       [140],\n",
       "       [115],\n",
       "       [130],\n",
       "       [150],\n",
       "       [160],\n",
       "       [135],\n",
       "       [140],\n",
       "       [170],\n",
       "       [165],\n",
       "       [200],\n",
       "       [160],\n",
       "       [130],\n",
       "       [145],\n",
       "       [135],\n",
       "       [110],\n",
       "       [120],\n",
       "       [140],\n",
       "       [115],\n",
       "       [110],\n",
       "       [160],\n",
       "       [150],\n",
       "       [180],\n",
       "       [125],\n",
       "       [125],\n",
       "       [130],\n",
       "       [155],\n",
       "       [140],\n",
       "       [132],\n",
       "       [142],\n",
       "       [150],\n",
       "       [120],\n",
       "       [160],\n",
       "       [140],\n",
       "       [110],\n",
       "       [133],\n",
       "       [128],\n",
       "       [170],\n",
       "       [110],\n",
       "       [116],\n",
       "       [120],\n",
       "       [130],\n",
       "       [128],\n",
       "       [130],\n",
       "       [128],\n",
       "       [130],\n",
       "       [120],\n",
       "       [136],\n",
       "       [130],\n",
       "       [124],\n",
       "       [160],\n",
       "       [  0],\n",
       "       [122],\n",
       "       [144],\n",
       "       [140],\n",
       "       [136],\n",
       "       [120],\n",
       "       [125],\n",
       "       [134],\n",
       "       [139],\n",
       "       [136],\n",
       "       [122],\n",
       "       [131],\n",
       "       [120],\n",
       "       [152],\n",
       "       [126],\n",
       "       [138],\n",
       "       [154],\n",
       "       [141],\n",
       "       [178],\n",
       "       [110],\n",
       "       [130],\n",
       "       [170],\n",
       "       [126],\n",
       "       [140],\n",
       "       [142],\n",
       "       [120],\n",
       "       [134],\n",
       "       [139],\n",
       "       [140],\n",
       "       [136],\n",
       "       [120],\n",
       "       [170],\n",
       "       [130],\n",
       "       [137],\n",
       "       [142],\n",
       "       [142],\n",
       "       [146],\n",
       "       [160],\n",
       "       [135],\n",
       "       [136],\n",
       "       [130],\n",
       "       [140],\n",
       "       [158],\n",
       "       [136],\n",
       "       [136],\n",
       "       [120],\n",
       "       [110],\n",
       "       [160],\n",
       "       [112],\n",
       "       [122],\n",
       "       [150],\n",
       "       [150],\n",
       "       [102],\n",
       "       [ 96],\n",
       "       [120],\n",
       "       [144],\n",
       "       [124],\n",
       "       [144],\n",
       "       [131],\n",
       "       [143],\n",
       "       [133],\n",
       "       [143],\n",
       "       [116],\n",
       "       [110],\n",
       "       [125],\n",
       "       [130],\n",
       "       [133],\n",
       "       [150],\n",
       "       [130],\n",
       "       [138],\n",
       "       [104],\n",
       "       [138],\n",
       "       [170],\n",
       "       [132],\n",
       "       [142],\n",
       "       [112],\n",
       "       [172],\n",
       "       [144],\n",
       "       [145],\n",
       "       [150],\n",
       "       [137],\n",
       "       [137],\n",
       "       [134],\n",
       "       [135],\n",
       "       [144],\n",
       "       [141],\n",
       "       [130],\n",
       "       [110],\n",
       "       [158],\n",
       "       [128],\n",
       "       [140],\n",
       "       [150],\n",
       "       [160],\n",
       "       [142],\n",
       "       [137],\n",
       "       [139],\n",
       "       [146],\n",
       "       [156],\n",
       "       [145],\n",
       "       [131],\n",
       "       [140],\n",
       "       [122],\n",
       "       [141],\n",
       "       [180],\n",
       "       [124],\n",
       "       [140],\n",
       "       [140],\n",
       "       [190],\n",
       "       [130],\n",
       "       [160],\n",
       "       [130],\n",
       "       [122],\n",
       "       [120],\n",
       "       [130],\n",
       "       [140],\n",
       "       [120],\n",
       "       [155],\n",
       "       [160],\n",
       "       [144],\n",
       "       [158],\n",
       "       [134],\n",
       "       [127],\n",
       "       [122],\n",
       "       [120],\n",
       "       [130],\n",
       "       [124],\n",
       "       [130],\n",
       "       [110],\n",
       "       [140],\n",
       "       [150],\n",
       "       [134],\n",
       "       [140],\n",
       "       [140],\n",
       "       [120],\n",
       "       [112],\n",
       "       [128],\n",
       "       [170],\n",
       "       [144],\n",
       "       [130],\n",
       "       [140],\n",
       "       [160],\n",
       "       [152],\n",
       "       [126],\n",
       "       [118],\n",
       "       [110],\n",
       "       [160],\n",
       "       [150],\n",
       "       [136],\n",
       "       [138],\n",
       "       [174],\n",
       "       [120],\n",
       "       [130],\n",
       "       [150],\n",
       "       [136],\n",
       "       [108],\n",
       "       [120],\n",
       "       [142],\n",
       "       [146],\n",
       "       [120],\n",
       "       [150],\n",
       "       [150],\n",
       "       [130],\n",
       "       [124],\n",
       "       [110],\n",
       "       [125],\n",
       "       [110],\n",
       "       [100],\n",
       "       [120],\n",
       "       [165],\n",
       "       [130],\n",
       "       [124],\n",
       "       [150],\n",
       "       [140],\n",
       "       [180],\n",
       "       [158],\n",
       "       [120],\n",
       "       [200],\n",
       "       [130],\n",
       "       [120],\n",
       "       [122],\n",
       "       [152],\n",
       "       [120],\n",
       "       [117],\n",
       "       [108],\n",
       "       [112],\n",
       "       [120],\n",
       "       [125],\n",
       "       [145],\n",
       "       [140],\n",
       "       [192],\n",
       "       [123],\n",
       "       [112],\n",
       "       [110],\n",
       "       [132],\n",
       "       [140],\n",
       "       [178],\n",
       "       [120],\n",
       "       [150],\n",
       "       [128],\n",
       "       [138],\n",
       "       [140],\n",
       "       [100],\n",
       "       [138],\n",
       "       [140],\n",
       "       [150],\n",
       "       [125],\n",
       "       [134],\n",
       "       [110],\n",
       "       [132],\n",
       "       [160],\n",
       "       [145],\n",
       "       [126],\n",
       "       [125],\n",
       "       [125],\n",
       "       [125],\n",
       "       [140],\n",
       "       [160],\n",
       "       [125],\n",
       "       [170],\n",
       "       [128],\n",
       "       [110],\n",
       "       [135],\n",
       "       [130],\n",
       "       [130],\n",
       "       [132],\n",
       "       [145],\n",
       "       [118],\n",
       "       [128],\n",
       "       [160],\n",
       "       [120],\n",
       "       [180],\n",
       "       [140],\n",
       "       [130],\n",
       "       [110],\n",
       "       [140],\n",
       "       [145],\n",
       "       [120],\n",
       "       [112],\n",
       "       [132],\n",
       "       [140],\n",
       "       [130],\n",
       "       [120],\n",
       "       [110],\n",
       "       [160],\n",
       "       [132],\n",
       "       [128],\n",
       "       [134],\n",
       "       [154],\n",
       "       [110],\n",
       "       [128],\n",
       "       [148],\n",
       "       [114],\n",
       "       [170],\n",
       "       [152],\n",
       "       [120],\n",
       "       [140],\n",
       "       [124],\n",
       "       [164],\n",
       "       [140],\n",
       "       [110],\n",
       "       [144],\n",
       "       [130],\n",
       "       [130]], dtype=int64)"
      ]
     },
     "execution_count": 64,
     "metadata": {},
     "output_type": "execute_result"
    }
   ],
   "source": [
    "y2"
   ]
  },
  {
   "cell_type": "code",
   "execution_count": 65,
   "id": "4588136c",
   "metadata": {},
   "outputs": [
    {
     "data": {
      "text/plain": [
       "(508, 2)"
      ]
     },
     "execution_count": 65,
     "metadata": {},
     "output_type": "execute_result"
    }
   ],
   "source": [
    "x2.shape"
   ]
  },
  {
   "cell_type": "code",
   "execution_count": 66,
   "id": "788885ef",
   "metadata": {},
   "outputs": [],
   "source": [
    "ones = np.ones((x2.shape[0], 1))\n",
    "x2 = np.hstack((ones, x2))"
   ]
  },
  {
   "cell_type": "code",
   "execution_count": 67,
   "id": "7a089075",
   "metadata": {},
   "outputs": [
    {
     "data": {
      "text/plain": [
       "(508, 3)"
      ]
     },
     "execution_count": 67,
     "metadata": {},
     "output_type": "execute_result"
    }
   ],
   "source": [
    "x2.shape"
   ]
  },
  {
   "cell_type": "code",
   "execution_count": 68,
   "id": "49bb7276",
   "metadata": {},
   "outputs": [
    {
     "data": {
      "text/plain": [
       "158600816883016.66"
      ]
     },
     "execution_count": 68,
     "metadata": {},
     "output_type": "execute_result"
    }
   ],
   "source": [
    "XTX = x2.T.dot(x2)\n",
    "\n",
    "np.linalg.det(XTX)"
   ]
  },
  {
   "cell_type": "code",
   "execution_count": 69,
   "id": "39c819f1",
   "metadata": {},
   "outputs": [
    {
     "name": "stdout",
     "output_type": "stream",
     "text": [
      "[[9.52812181e+01]\n",
      " [6.07980298e-01]\n",
      " [2.79523450e-02]]\n"
     ]
    }
   ],
   "source": [
    "XTX_inv = np.linalg.inv(XTX)\n",
    "\n",
    "b = XTX_inv.dot(x2.T).dot(y2)\n",
    "\n",
    "print(b)"
   ]
  },
  {
   "cell_type": "markdown",
   "id": "106d6765",
   "metadata": {},
   "source": [
    "Коэффициент детерминации:"
   ]
  },
  {
   "cell_type": "code",
   "execution_count": 70,
   "id": "30892cd3",
   "metadata": {},
   "outputs": [
    {
     "name": "stdout",
     "output_type": "stream",
     "text": [
      "реальное значение давления: [[160 138 140 136 140 110 100 120 150 145]]\n",
      "предсказанное: [[130.10367479 130.44607422 123.56262453 135.12825995 131.61310142\n",
      "  123.86312903 138.69221752 124.63178493 130.08262656 141.98348859]]\n"
     ]
    }
   ],
   "source": [
    "z2 = x2.dot(b)\n",
    "print(f'реальное значение давления: {y2[:10].T}')\n",
    "print(f'предсказанное: {z2[:10].T}')"
   ]
  },
  {
   "cell_type": "code",
   "execution_count": 71,
   "id": "ae4e2d02",
   "metadata": {},
   "outputs": [
    {
     "data": {
      "text/plain": [
       "0.09940096840434243"
      ]
     },
     "execution_count": 71,
     "metadata": {},
     "output_type": "execute_result"
    }
   ],
   "source": [
    "R1 = z2.var() / y2.var()\n",
    "R1"
   ]
  },
  {
   "cell_type": "markdown",
   "id": "8d50b2b1",
   "metadata": {},
   "source": [
    "Каĸ мы видим, ĸоэффициент детерминации для нашей модели оĸазался очень низоĸ, модель определяет только 10% данных давления."
   ]
  },
  {
   "cell_type": "code",
   "execution_count": 72,
   "id": "dd535937",
   "metadata": {},
   "outputs": [],
   "source": [
    "def mean_approximation_error(y_real, y_pred):\n",
    "    return np.abs((y_real - y_pred) / y_real).mean()"
   ]
  },
  {
   "cell_type": "code",
   "execution_count": 73,
   "id": "3acc737c",
   "metadata": {},
   "outputs": [
    {
     "data": {
      "text/plain": [
       "0.09916987168818046"
      ]
     },
     "execution_count": 73,
     "metadata": {},
     "output_type": "execute_result"
    }
   ],
   "source": [
    " mean_approximation_error(y2[:100], z2[:100])"
   ]
  },
  {
   "cell_type": "markdown",
   "id": "024de3d3",
   "metadata": {},
   "source": [
    "Можно сĸазать, что теоретичесĸие значения давления близĸи ĸ тем, ĸоторые выдает модель линейной регрессии."
   ]
  },
  {
   "cell_type": "markdown",
   "id": "22af9c65",
   "metadata": {},
   "source": [
    "### 8) Требуется проверить гипотезу о равенстве средней аномально низкого следа ST на кардиограмме у полной группы и пациентов с подтверждёнными болезнями сердца. Для проверки этой гипотезы воспользуемся однофакторным дисперсионным анализом."
   ]
  },
  {
   "cell_type": "code",
   "execution_count": 74,
   "id": "fe21ae79",
   "metadata": {},
   "outputs": [],
   "source": [
    "y1 = np.array(df['Oldpeak'], dtype=np.float64)\n",
    "y2 = np.array(filtered_df['Oldpeak'], dtype=np.float64)\n",
    "\n",
    "n1 = y1.shape[0]\n",
    "n2 = y2.shape[0]"
   ]
  },
  {
   "cell_type": "code",
   "execution_count": 75,
   "id": "27864918",
   "metadata": {},
   "outputs": [
    {
     "data": {
      "text/plain": [
       "(0.8873638344226579, 1.2742125984251969)"
      ]
     },
     "execution_count": 75,
     "metadata": {},
     "output_type": "execute_result"
    }
   ],
   "source": [
    "y1_mean = y1.mean()\n",
    "y2_mean = y2.mean()\n",
    "\n",
    "y1_mean, y2_mean, "
   ]
  },
  {
   "cell_type": "code",
   "execution_count": 76,
   "id": "d0f911d4",
   "metadata": {},
   "outputs": [],
   "source": [
    "y = np.concatenate([y1, y2])"
   ]
  },
  {
   "cell_type": "code",
   "execution_count": 77,
   "id": "a5e78746",
   "metadata": {},
   "outputs": [
    {
     "data": {
      "text/plain": [
       "1.0251753155680225"
      ]
     },
     "execution_count": 77,
     "metadata": {},
     "output_type": "execute_result"
    }
   ],
   "source": [
    "y_mean = y.mean()\n",
    "y_mean"
   ]
  },
  {
   "cell_type": "code",
   "execution_count": 78,
   "id": "62f44a3b",
   "metadata": {},
   "outputs": [
    {
     "data": {
      "text/plain": [
       "(48.9406006524351, 1715.845605518673)"
      ]
     },
     "execution_count": 78,
     "metadata": {},
     "output_type": "execute_result"
    }
   ],
   "source": [
    "S2_F = n1 * (y1_mean - y_mean) ** 2 + n2 * (y2_mean - y_mean) ** 2\n",
    "\n",
    "S2_res = ((y1 - y1_mean) ** 2).sum() + ((y2 - y2_mean) ** 2).sum()\n",
    "\n",
    "S2_F, S2_res"
   ]
  },
  {
   "cell_type": "code",
   "execution_count": 79,
   "id": "4cb11238",
   "metadata": {},
   "outputs": [
    {
     "data": {
      "text/plain": [
       "True"
      ]
     },
     "execution_count": 79,
     "metadata": {},
     "output_type": "execute_result"
    }
   ],
   "source": [
    "S2_F + S2_res == ((y - y_mean) ** 2).sum()"
   ]
  },
  {
   "cell_type": "code",
   "execution_count": 80,
   "id": "13964d8e",
   "metadata": {},
   "outputs": [
    {
     "data": {
      "text/plain": [
       "(48.9406006524351, 1.2049477566844613)"
      ]
     },
     "execution_count": 80,
     "metadata": {},
     "output_type": "execute_result"
    }
   ],
   "source": [
    "k = 2\n",
    "n = n1 + n2\n",
    "\n",
    "k1 = k - 1\n",
    "k2 = n - k\n",
    "\n",
    "sigma2_F = S2_F / k1\n",
    "sigma2_res = S2_res / k2\n",
    "\n",
    "sigma2_F, sigma2_res"
   ]
  },
  {
   "cell_type": "code",
   "execution_count": 81,
   "id": "4e772909",
   "metadata": {},
   "outputs": [
    {
     "data": {
      "text/plain": [
       "40.61636729139215"
      ]
     },
     "execution_count": 81,
     "metadata": {},
     "output_type": "execute_result"
    }
   ],
   "source": [
    "T = sigma2_F / sigma2_res\n",
    "T"
   ]
  },
  {
   "cell_type": "code",
   "execution_count": 82,
   "id": "7f46dc7b",
   "metadata": {},
   "outputs": [
    {
     "data": {
      "text/plain": [
       "3.847997349889974"
      ]
     },
     "execution_count": 82,
     "metadata": {},
     "output_type": "execute_result"
    }
   ],
   "source": [
    "alpha = 0.05\n",
    "\n",
    "F_crit = stats.f.ppf(1 - alpha, k1, k2)\n",
    "F_crit"
   ]
  },
  {
   "cell_type": "markdown",
   "id": "a7eeadcc",
   "metadata": {},
   "source": [
    "Видим, что $T>Fcrit$ , поэтому заключаем, что отличие средних  действительно является статистически значимым, что подтверждает наш вывод о серьёзности данного симптома для диагностики сердечных заболеваний."
   ]
  },
  {
   "cell_type": "markdown",
   "id": "1435d90b",
   "metadata": {},
   "source": [
    "### Вывод.\n",
    "#### Данные этого исследования говорят о неоднозначности симптомов при диагностики сердечных заболеваний. Важным фактором является принадлежность к мужскому полу - мужчины в зоне риска; возраст от 50 - 60 лет, такой вывод мы делаем на основании среднего возраста в группе риска; значение ST следа на кардиограмме."
   ]
  },
  {
   "cell_type": "code",
   "execution_count": null,
   "id": "e130b3e6",
   "metadata": {},
   "outputs": [],
   "source": []
  }
 ],
 "metadata": {
  "kernelspec": {
   "display_name": "Python 3",
   "language": "python",
   "name": "python3"
  },
  "language_info": {
   "codemirror_mode": {
    "name": "ipython",
    "version": 3
   },
   "file_extension": ".py",
   "mimetype": "text/x-python",
   "name": "python",
   "nbconvert_exporter": "python",
   "pygments_lexer": "ipython3",
   "version": "3.8.8"
  }
 },
 "nbformat": 4,
 "nbformat_minor": 5
}
